{
 "cells": [
  {
   "cell_type": "markdown",
   "metadata": {},
   "source": [
    "# python-入門語法\n",
    "\n",
    "## 教學目標\n",
    "\n",
    "這份教學的目標是介紹基本的 python 語法。\n",
    "\n",
    "## 適用對象\n",
    "\n",
    "適用於有程式基礎，但是卻沒有學過 python 的學生。\n",
    "\n",
    "請先參考 [jupyter-基本功能](./jupyter-基本功能.ipynb) 教學了解如何與當前教學環境互動。\n",
    "\n",
    "## 執行時間\n",
    "\n",
    "本教學全部執行時間約為 3.0717861652374268 秒。\n",
    "\n",
    "|測試環境|名稱|\n",
    "|-|-|\n",
    "|主機板|X570 AORUS ELITE|\n",
    "|處理器|AMD Ryzen 7 3700X 8-Core Processor|\n",
    "|記憶體|Kingston KHX3200C16D4/16GX|\n",
    "|硬碟|Seagate ST1000DM003-1ER1|\n",
    "|顯示卡|GeForce RTX 2080|\n",
    "|作業系統|Ubuntu 18.04 LTS|"
   ]
  },
  {
   "cell_type": "markdown",
   "metadata": {},
   "source": [
    "## 大綱\n",
    "\n",
    "- [四則運算](#四則運算)\n",
    "- [變數](#變數)\n",
    "- [資料型態](#資料型態)\n",
    "- [條件判斷](#條件判斷)\n",
    "- [迴圈](#迴圈)\n",
    "- [函數](#函數)\n",
    "- [類別](#類別)\n",
    "- [模組](#模組)\n",
    "- [錯誤處理](#錯誤處理)"
   ]
  },
  {
   "cell_type": "markdown",
   "metadata": {},
   "source": [
    "## 四則運算\n",
    "\n",
    "### 註解\n",
    "\n",
    "`#` 井號的意思是**註解**，出現在井號之後的任何文字都**不會**被當作程式執行\n",
    "\n",
    "### 輸出\n",
    "\n",
    "`print()` 的功能為**輸出**運算結果\n",
    "\n",
    "### 算術運算子（arithmetic operator）\n",
    "\n",
    "|符號|名稱|範例|\n",
    "|-|-|-|\n",
    "|`+`|加法|`a + b`|\n",
    "|`-`|減法|`a - b`|\n",
    "|`*`|乘法|`a * b`|\n",
    "|`/`|除法|`a / b`|\n",
    "|`//`|整除|`a // b`|\n",
    "|`%`|餘數|`a % b`|\n",
    "|`**`|指數|`a ** b`|\n",
    "\n",
    "- **整數相除** `/` 會變成含有小數點的**浮點數**\n",
    "    - 如果**只想要整數**的部份，請使用 `//`"
   ]
  },
  {
   "cell_type": "code",
   "execution_count": null,
   "metadata": {},
   "outputs": [],
   "source": [
    "# 井號的意思是註解\n",
    "# 可以出現在每一行的任何一個地方\n",
    "# 出現在井號之後的任何文字都不會被當作程式執行\n",
    "\n",
    "# print 的功能是輸出\n",
    "# 如同 C 語言中的 printf\n",
    "# 如同 C++ 語言中的 std::cout\n",
    "# 如同 Java 語言中的 System.out.println\n",
    "# 如同 JavaScript 語言中的 console.log\n",
    "\n",
    "print(1234 + 761)  # 相加輸出 1995\n",
    "print(5678 - 5668) # 相減輸出 10\n",
    "print(3 * 4)       # 相乘輸出 12\n",
    "print(4 / 3)       # 相除輸出 1.3333333333333333"
   ]
  },
  {
   "cell_type": "code",
   "execution_count": null,
   "metadata": {},
   "outputs": [],
   "source": [
    "# 先乘除\n",
    "# 後加減\n",
    "print(19 * 95 - 10 * 12)   # 輸出 1685\n",
    "\n",
    "# 使用小括號 ()\n",
    "# 改變運算順序\n",
    "print(19 * (95 - 10) * 12) # 輸出 19380"
   ]
  },
  {
   "cell_type": "code",
   "execution_count": null,
   "metadata": {},
   "outputs": [],
   "source": [
    "# 餘數運算\n",
    "print(1995 % 10)  # 輸出 5\n",
    "\n",
    "# 整除運算\n",
    "print(1995 // 12) # 輸出 166\n",
    "\n",
    "# 次方運算\n",
    "print(2 ** 12)    # 輸出 4096"
   ]
  },
  {
   "cell_type": "markdown",
   "metadata": {},
   "source": [
    "# 變數\n",
    "\n",
    "### 變數宣告 (Variable Declaration)\n",
    "\n",
    "- 將計算結果**保存**\n",
    "    - 使用 `=` 進行**賦予 (assignment)** 值的運算\n",
    "- **重複**利用計算結果\n",
    "- 複雜的計算可以拆解成簡單的步驟\n",
    "\n",
    "### 命名規則\n",
    "\n",
    "- **開頭**只能是**非數字的文字**\n",
    "- 不可以包含英文中常見的標點符號\n",
    "- 不可以包含運算符號"
   ]
  },
  {
   "cell_type": "code",
   "execution_count": 1,
   "metadata": {},
   "outputs": [
    {
     "output_type": "stream",
     "name": "stdout",
     "text": "6\n5\n3.5\n"
    }
   ],
   "source": [
    "a = 1            # 宣告變數 a 並賦予值 1\n",
    "b = 2            # 宣告變數 b 並賦予值 2\n",
    "c = 3            # 宣告變數 c 並賦予值 3\n",
    "\n",
    "print(a + b + c) # 輸出 6\n",
    "print(a * b + c) # 輸出 5\n",
    "print(a / b + c) # 輸出 3.5"
   ]
  },
  {
   "cell_type": "code",
   "execution_count": 4,
   "metadata": {},
   "outputs": [
    {
     "output_type": "stream",
     "name": "stdout",
     "text": "32\n"
    }
   ],
   "source": [
    "# 中文也可以作為變數名稱\n",
    "# 只在 python3 有效\n",
    "底數 = 2\n",
    "次方數 = 5\n",
    "運算結果 = 底數 ** 次方數\n",
    "\n",
    "print(運算結果) # 輸出 32"
   ]
  },
  {
   "cell_type": "markdown",
   "metadata": {},
   "source": [
    "## 資料型態\n",
    "\n",
    "- 包含**數值**型態、**結構**型態\n",
    "\n",
    "### 數值型態\n",
    "\n",
    "|型態|名稱|備註|\n",
    "|-|-|-|\n",
    "|`int`|整數|64位元|\n",
    "|`float`|符點數|雙精度, 64位元|\n",
    "|`bool`|布林值|`True` 或 `False`|\n",
    "|`str`|字串||\n",
    "\n",
    "- 不同型態混合運算有特別規則\n",
    "    - 整數 + 浮點數 = 浮點數\n",
    "    - 浮點數 + 整數 = 浮點數\n",
    "    - `True` 可以變成整數 `1`\n",
    "    - `False` 可以變成整數 `0`\n",
    "- python 為**強型態語言（Strong Type Language）**\n",
    "    - 字串只能與字串相加（串接的意思）\n",
    "    - 若其他型態變數要與字串串接，則必須先透過 `str()` 轉變型態成字串\n",
    "\n",
    "### 結構型態\n",
    "\n",
    "|型態|名稱|語法|可否更改內容|\n",
    "|-|-|-|-|\n",
    "|`list`|串列|`[]`|mutable|\n",
    "|`tuple`|多元組|`()`|immutable|\n",
    "|`dict`|字典|`{}`|mutable|\n",
    "\n",
    "- `list`\n",
    "    - 類似於 C-like 語言中的 array\n",
    "    - 有**順序**的保存資料\n",
    "    - 使用**位置(數字)**取得內容\n",
    "    - 使用 `:` 來取得指定位置範圍中的資料\n",
    "    - 建議只用來儲存相同性質的資料\n",
    "- `tuple`\n",
    "    - 類似於 C-like 語言中的 const array\n",
    "    - 類似於 `list` ，有**順序**的保存資料\n",
    "    - 其使用方式大致上與 `list` 相同，惟**無法變更個別元素的值**\n",
    "- `dict`\n",
    "    - **無**順序的保存資料\n",
    "    - 使用任意**數值型態**作為**鑰匙（鍵，key）** 取得**配對值（value）**\n",
    "\n",
    "### 資料運算\n",
    "\n",
    "- 可以使用 `type` 觀察變數**資料型態**\n",
    "- 可以使用 `len()` 取得結構型態變數的**大小**"
   ]
  },
  {
   "cell_type": "code",
   "execution_count": 5,
   "metadata": {},
   "outputs": [
    {
     "output_type": "stream",
     "name": "stdout",
     "text": "1\n<class 'int'>\nTrue\n1.0\n<class 'float'>\nTrue\nTrue\n<class 'bool'>\nTrue\nFalse\n<class 'bool'>\nTrue\napple\n<class 'str'>\nTrue\n"
    }
   ],
   "source": [
    "# 數值型態\n",
    "\n",
    "print(1)                    # 輸出 1\n",
    "print(type(1))              # 輸出 <class 'int'>\n",
    "print(type(1) == int)       # 輸出 True\n",
    "\n",
    "print(1.0)                  # 輸出 1.0\n",
    "print(type(1.0))            # 輸出 <class 'float'>\n",
    "print(type(1.0) == float)   # 輸出 True\n",
    "\n",
    "print(True)                 # 輸出 True\n",
    "print(type(True))           # 輸出 <class 'bool'>\n",
    "print(type(True) == bool)   # 輸出 True\n",
    "\n",
    "print(False)                # 輸出 False\n",
    "print(type(False))          # 輸出 <class 'bool'>\n",
    "print(type(False) == bool)  # 輸出 True\n",
    "\n",
    "print('apple')              # 輸出 apple\n",
    "print(type('apple'))        # 輸出 <class 'str'>\n",
    "print(type('apple') == str) # 輸出 True"
   ]
  },
  {
   "cell_type": "code",
   "execution_count": 6,
   "metadata": {},
   "outputs": [
    {
     "output_type": "stream",
     "name": "stdout",
     "text": "2.0\n2.0\n2\n2\n1\n1\nabc\n年份: 1995\n月份: 10, 日期: 12\n"
    }
   ],
   "source": [
    "# 數值型態混合運算\n",
    "\n",
    "print(1 + 1.0)                           # 輸出 2.0\n",
    "print(1.0 + 1)                           # 輸出 2.0\n",
    "\n",
    "print(1 + True)                          # 輸出 2\n",
    "print(True + 1)                          # 輸出 2\n",
    "print(1 + False)                         # 輸出 1\n",
    "print(False + 1)                         # 輸出 1\n",
    "\n",
    "print('abc')                             # 輸出 abc\n",
    "print('年份: ' + str(1995))               # 輸出 年份: 1995\n",
    "print('月份: {}, 日期: {}'.format(10, 12)) # 輸出 月份: 10, 日期: 12"
   ]
  },
  {
   "cell_type": "code",
   "execution_count": 1,
   "metadata": {},
   "outputs": [
    {
     "output_type": "stream",
     "name": "stdout",
     "text": "[1995, 10, 12]\n3\n1995\n10\n12\n"
    }
   ],
   "source": [
    "# list 結構型態\n",
    "\n",
    "l1 = [1995, 10, 12] # 宣告 list 結構變數\n",
    "\n",
    "print(l1)           # 輸出 list l1 的所有內容 [1995, 10, 12]\n",
    "print(len(l1))      # 輸出 list l1 的內容大小 3\n",
    "print(l1[0])        # 輸出 list l1 中的第 0 個位置的值 1995\n",
    "print(l1[1])        # 輸出 list l1 中的第 1 個位置的值 10\n",
    "print(l1[2])        # 輸出 list l1 中的第 2 個位置的值 12"
   ]
  },
  {
   "cell_type": "code",
   "execution_count": 2,
   "metadata": {},
   "outputs": [
    {
     "output_type": "stream",
     "name": "stdout",
     "text": "12\n10\n1995\n"
    }
   ],
   "source": [
    "l2 = [1995, 10, 12] # 宣告 list 結構變數\n",
    "\n",
    "# 使用負數來代表反向取得值\n",
    "# 例如長度為 3 的 list l2 中\n",
    "# l2[-1] = l2[len(l2)-1] = l2[3-1] = l2[2] = 12\n",
    "# l2[-2] = l2[len(l2)-2] = l2[3-2] = l2[1] = 10\n",
    "# l2[-3] = l2[len(l2)-3] = l2[3-3] = l2[0] = 1995\n",
    "\n",
    "print(l2[-1])       # 輸出 list l2 中的第 -1 個位置的值 12\n",
    "print(l2[-2])       # 輸出 list l2 中的第 -2 個位置的值 10\n",
    "print(l2[-3])       # 輸出 list l2 中的第 -3 個位置的值 1995"
   ]
  },
  {
   "cell_type": "code",
   "execution_count": 3,
   "metadata": {},
   "outputs": [
    {
     "output_type": "stream",
     "name": "stdout",
     "text": "[1995, 10, 12]\n[10, 12]\n[1995, 10]\n[1995, 10, 12]\n"
    }
   ],
   "source": [
    "l3 = [1995, 10, 12] # 宣告 list 結構變數\n",
    "\n",
    "# 使用 [起始位置:結束位置] 來取得 list 中的部分值\n",
    "# 取出的值會以 list 的形式保留\n",
    "# 位置包含起始位置，但不包含結束位置\n",
    "\n",
    "print(l3[0:3])      # 輸出由 list l3 位置 0, 1, 2 但是不含位置 3 的值所組成的 list [1995, 10, 12]\n",
    "print(l3[1:])       # 輸出由 list l3 位置 1, 2 的值所組成的 list [10, 12]\n",
    "print(l3[:2])       # 輸出由 list l3 位置 0, 1 但是不含位置 2 的值所組成的 list [1995, 10]\n",
    "print(l3[:])        # 輸出由 list l3 位置 0, 1, 2 的值所組成的 list [1995, 10, 12]"
   ]
  },
  {
   "cell_type": "code",
   "execution_count": 4,
   "metadata": {},
   "outputs": [
    {
     "output_type": "stream",
     "name": "stdout",
     "text": "[2020, 10, 12]\n[2020, 10, 12, 1995]\n[2020, 10, 12, 1995, 420, 69]\n"
    }
   ],
   "source": [
    "l4 = [1995, 10, 12]  # 宣告 list 結構變數\n",
    "\n",
    "l4[0] = 2020         # 更改指定位置的值\n",
    "print(l4)            # 輸出更改後的 list l4 [2020, 10, 12]\n",
    "\n",
    "l4.append(1995)      # 在 list l4 尾端插入一個值\n",
    "print(l4)            # 輸出 [2020, 10, 12, 1995]\n",
    "\n",
    "l4.extend([420, 69]) # 將 list [420, 69] 串接到 list l4 尾端\n",
    "print(l4)            # 輸出 [2020, 10, 12, 1995, 420, 69]"
   ]
  },
  {
   "cell_type": "code",
   "execution_count": 5,
   "metadata": {},
   "outputs": [
    {
     "output_type": "stream",
     "name": "stdout",
     "text": "(1, 2, 3, 4, 5)\n5\n1\n2\n3\n4\n5\n"
    }
   ],
   "source": [
    "# tuple 結構型態\n",
    "\n",
    "t1 = (1, 2, 3, 4, 5) # 宣告 tuple 結構變數\n",
    "                     # 可以寫成 t1 = 1, 2, 3, 4, 5 小括號可有可無\n",
    "\n",
    "print(t1)            # 輸出 tuple t1 的所有內容 (1, 2, 3, 4, 5)\n",
    "print(len(t1))       # 輸出 tuple t1 的內容大小 5\n",
    "print(t1[0])         # 輸出 tuple t1 中的第 0 個位置的值 1\n",
    "print(t1[1])         # 輸出 tuple t1 中的第 1 個位置的值 2\n",
    "print(t1[2])         # 輸出 tuple t1 中的第 2 個位置的值 3\n",
    "print(t1[3])         # 輸出 tuple t1 中的第 3 個位置的值 4\n",
    "print(t1[4])         # 輸出 tuple t1 中的第 3 個位置的值 5"
   ]
  },
  {
   "cell_type": "code",
   "execution_count": 6,
   "metadata": {},
   "outputs": [
    {
     "output_type": "stream",
     "name": "stdout",
     "text": "5\n4\n3\n2\n1\n"
    }
   ],
   "source": [
    "t2 = (1, 2, 3, 4, 5) # 宣告 tuple 結構變數\n",
    "\n",
    "# 使用負數來代表反向取得值\n",
    "# 例如長度為 5 的 tuple t2 中\n",
    "# t2[-1] = t2[len(t2)-1] = t2[5-1] = t2[4] = 5\n",
    "# t2[-2] = t2[len(t2)-2] = t2[5-2] = t2[3] = 4\n",
    "# t2[-3] = t2[len(t2)-3] = t2[5-3] = t2[2] = 3\n",
    "# t2[-4] = t2[len(t2)-4] = t2[5-4] = t2[1] = 2\n",
    "# t2[-5] = t2[len(t2)-5] = t2[5-5] = t2[0] = 1\n",
    "\n",
    "print(t2[-1])        # 輸出 tuple t2 中的第 -1 個位置的值 5\n",
    "print(t2[-2])        # 輸出 tuple t2 中的第 -2 個位置的值 4\n",
    "print(t2[-3])        # 輸出 tuple t2 中的第 -3 個位置的值 3\n",
    "print(t2[-4])        # 輸出 tuple t2 中的第 -4 個位置的值 2\n",
    "print(t2[-5])        # 輸出 tuple t2 中的第 -5 個位置的值 1"
   ]
  },
  {
   "cell_type": "code",
   "execution_count": 7,
   "metadata": {},
   "outputs": [
    {
     "output_type": "stream",
     "name": "stdout",
     "text": "(1, 2, 3)\n(2, 3, 4, 5)\n(1, 2)\n(1, 2, 3, 4, 5)\n"
    }
   ],
   "source": [
    "t3 = (1, 2, 3, 4, 5) # 宣告 tuple 結構變數\n",
    "\n",
    "# 使用 [起始位置:結束位置] 來取得 tuple 中的部分值\n",
    "# 取出的值會以 tuple 的形式保留\n",
    "# 位置包含起始位置，但不包含結束位置\n",
    "\n",
    "print(t3[0:3])       # 輸出由 tuple t3 位置 0, 1, 2 但是不含位置 3 的值所組成的 tuple (1, 2, 3)\n",
    "print(t3[1:])        # 輸出由 tuple t3 位置 1, 2, 3, 4 的值所組成的 tuple (2, 3, 4, 5)\n",
    "print(t3[:2])        # 輸出由 tuple t3 位置 0, 1 但是不含位置 2 的值所組成的 tuple (1, 2)\n",
    "print(t3[:])         # 輸出由 tuple t3 位置 0, 1, 2, 3, 4 的值所組成的 tuple (1, 2, 3, 4, 5)"
   ]
  },
  {
   "cell_type": "code",
   "execution_count": 8,
   "metadata": {},
   "outputs": [
    {
     "output_type": "stream",
     "name": "stdout",
     "text": "'tuple' object does not support item assignment\n(1, 2, 3, 4, 5)\n"
    }
   ],
   "source": [
    "t4 = (1, 2, 3, 4, 5) # 宣告 tuple 結構變數\n",
    "\n",
    "# 無法更改指定位置的值\n",
    "\n",
    "try:\n",
    "    t4[0] = 1995 # 得到錯誤 TypeError: 'tuple' object does not support item assignment\n",
    "except TypeError as err:\n",
    "    print(err)  # 輸出錯誤訊息\n",
    "    \n",
    "print(t4)        # 輸出 (1, 2, 3, 4, 5)"
   ]
  },
  {
   "cell_type": "code",
   "execution_count": 9,
   "metadata": {},
   "outputs": [
    {
     "output_type": "stream",
     "name": "stdout",
     "text": "{'a': 123, 'b': 'Hello World', 'c': True, 'd': [4, 5, 6], 'e': {'foo': 'bar'}}\n5\n123\nHello World\nTrue\n4\nbar\n"
    }
   ],
   "source": [
    "# dict 結構型態\n",
    "\n",
    "d1 = {\n",
    "    'a': 123,\n",
    "    'b': 'Hello World',\n",
    "    'c': True,\n",
    "    'd': [4, 5, 6],\n",
    "    'e': {'foo': 'bar'}\n",
    "}                     # 宣告 dict 結構變數\n",
    "\n",
    "print(d1)             # 輸出 d1 的所有內容\n",
    "                      # {'a': 123, 'b': 'Hello World', 'c': True, 'd': [4, 5, 6], 'e': {'foo': 'bar'}}\n",
    "print(len(d1))        # 輸出 d1 的鍵值配對總數 5\n",
    "print(d1['a'])        # 輸出 d1 中鍵為 'a' 的配對值 123\n",
    "print(d1['b'])        # 輸出 d1 中鍵為 'b' 的配對值 'Hello World'\n",
    "print(d1['c'])        # 輸出 d1 中鍵為 'c' 的配對值 True\n",
    "print(d1['d'][0])     # 輸出 d1 中鍵為 'd' 的配對值 list 當中，位置為 0 的值 4\n",
    "print(d1['e']['foo']) # 輸出 d1 中鍵為 'e' 的配對值 dict 當中，鍵為 'foo' 的配對值 'bar'"
   ]
  },
  {
   "cell_type": "code",
   "execution_count": 11,
   "metadata": {},
   "outputs": [
    {
     "output_type": "stream",
     "name": "stdout",
     "text": "{'a': 'lala', 'b': 'Hello World', 'c': True, 'd': [4, 5, 6], 'e': {'foo': 'bar'}}\n"
    }
   ],
   "source": [
    "d2 = {\n",
    "    'a': 123,\n",
    "    'b': 'Hello World',\n",
    "    'c': True,\n",
    "    'd': [4, 5, 6],\n",
    "    'e': {'foo': 'bar'}\n",
    "}                # 宣告 dict 結構變數\n",
    "\n",
    "d2['a'] = 'lala' # 更改指定鍵的配對值\n",
    "print(d2)        # 輸出 {'a': 'lala', 'b': 'Hello World', 'c': True, 'd': [4, 5, 6], 'e': {'foo': 'bar'}}"
   ]
  },
  {
   "cell_type": "code",
   "execution_count": 12,
   "metadata": {},
   "outputs": [
    {
     "output_type": "stream",
     "name": "stdout",
     "text": "{'a': 123, 'b': 'Hello World', 'c': True, 'd': [4, 5, 6], 'e': {'foo': 'bar'}, 'f': 123}\n"
    }
   ],
   "source": [
    "d3 = {\n",
    "    'a': 123,\n",
    "    'b': 'Hello World',\n",
    "    'c': True,\n",
    "    'd': [4, 5, 6],\n",
    "    'e': {'foo': 'bar'}\n",
    "}             # 宣告 dict 結構變數\n",
    "\n",
    "d3['f'] = 123 # 若對一個不存在的鍵賦與配對值，則創造一個新的鍵值配對\n",
    "print(d3)     # 輸出 {'a': 123, 'b': 'Hello World', 'c': True, 'd': [4, 5, 6], 'e': {'foo': 'bar'}, 'f': 123}"
   ]
  },
  {
   "cell_type": "code",
   "execution_count": 13,
   "metadata": {},
   "outputs": [
    {
     "output_type": "stream",
     "name": "stdout",
     "text": "{'a': 123, 'b': 'Hello World', 'c': True, 'e': {'foo': 'bar'}}\n"
    }
   ],
   "source": [
    "d4 = {\n",
    "    'a': 123,\n",
    "    'b': 'Hello World',\n",
    "    'c': True,\n",
    "    'd': [4, 5, 6],\n",
    "    'e': {'foo': 'bar'}\n",
    "}           # 宣告 dict 結構變數\n",
    "\n",
    "del d4['d'] # 使用 del 關鍵字可以刪除任意鍵值配對\n",
    "print(d4)   # 輸出 {'a': 123, 'b': 'Hello World', 'c': True, 'e': {'foo': 'bar'}}"
   ]
  },
  {
   "cell_type": "markdown",
   "metadata": {},
   "source": [
    "## 條件判斷\n",
    "\n",
    "### 條件運算子（Conditional Operator）\n",
    "\n",
    "|符號|名稱|範例|\n",
    "|-|-|-|\n",
    "|`==`|等於|`a == b`|\n",
    "|`!=`|不等於|`a != b`|\n",
    "|`<`|小於|`a < b`|\n",
    "|`<=`|小於或等於|`a <= b`|\n",
    "|`>`|大於|`a > b`|\n",
    "|`>=`|大於或等於|`a >= b`|\n",
    "|`is`|相同記憶體位置|`a is b`|\n",
    "|`in`|是否為成員|`a in b`|\n",
    "\n",
    "- `a is b` 判斷 `a` 與 `b` 是否為相同的記憶體位置\n",
    "    - 與 C-like pointer 概念相同\n",
    "    - 當使用於數值型態資料時，其功能與 `==` 相同\n",
    "    - 當使用於非數值型態資料（如 `list`, `dict`, `tuple`, 任意型態的物件等）時，即 `id(a) == id(b)`\n",
    "- `a in b` 判斷 `a` 是否為 `b` 的成員\n",
    "    - 當 `b` 為字串時，用於檢查 `a` 是否為 `b` 的子字串\n",
    "    - 當 `b` 為 `dict` 時，用於檢查 `a` 是否為 `b` 的其中一個鍵\n",
    "    - 當 `b` 為可列舉（iterable）的資料型態（如 `list`, `tuple`, `range` 等）時，用於檢查 `a` 是否為 `b` 的其中一個成員\n",
    "\n",
    "### 邏輯運算子（Logical Operator）\n",
    "\n",
    "|符號|名稱|範例|\n",
    "|-|-|-|\n",
    "|`and`|且|`a and b`|\n",
    "|`or`|或|`a or b`|\n",
    "|`not`|非|`not a`|\n",
    "\n",
    "- 邏輯運算子的運算優先度為\n",
    "    1. `not`\n",
    "    2. `and`\n",
    "    3. `or`\n",
    "\n",
    "### 條件運算式 (Conditional Expression）\n",
    "\n",
    "- 由 1 個或多個條件運算子經由邏輯運算子所組合成的運算式即為條件運算式\n",
    "\n",
    "### `if` 語句\n",
    "\n",
    "- python 中的執行環境（block）\n",
    "    - 就如同大部分的指令式程式語言，python 在遇到 `if`、`while`、`for`、`def` 等語句時，會產生出新的執行環境\n",
    "    - 與 C-like 語言不同的是，python 並不使用 `{ }` 來宣告一個執行環境，而是直接使用**縮排**的數量（Indentation Level）來判斷\n",
    "    - 相鄰的兩行程式碼若有一樣的縮排數的話，會被視為在同一個執行環境裡面，享有一樣的變數存取範圍（scope）\n",
    "    - 常用的縮排為：2 個空白鍵、4 個空白鍵、1 個 tab 等\n",
    "    - 注意在同一個執行環境內必須使用相同的縮排，否則會出現錯誤：Indentation Error\n",
    "- 在 python 中最簡單的流程控制語句為 `if...else` 語句\n",
    "    - `if` 語句（注意縮排）僅在條件判斷式為 `True` 時執行 `if` 執行環境內的指令：\n",
    "    ```python\n",
    "    if condition:\n",
    "        some_statement # 當 condition 為 True 時執行 some_statement\n",
    "    ```\n",
    "    - 若要串接多個條件判斷式，可使用 `if...elif` 語句：\n",
    "    ```python\n",
    "    if condition_1:\n",
    "        some_statement_1 # 當 condition_1 為 True 時執行 some_statement_1\n",
    "    elif condition_2:\n",
    "        some_statement_2 # 當 condition_1 為 False\n",
    "                         # 且 condition_2 為 True 時執行 some_statement_2\n",
    "    elif condition_3:\n",
    "        some_statement_3 # 當 condition_1 與 condition_2 皆為 False\n",
    "                         # 且 condition_3 為 True 時執行 some_statement_3\n",
    "    ```\n",
    "    - 若列舉的條件以外有統一的處理方式，可使用 `if...else` 語句：\n",
    "    ```python\n",
    "    if condition:\n",
    "        some_statement_1 # 當 condition 為 True 時執行 some_statement_1\n",
    "    else:\n",
    "        some_statement_2 # 當 condition 為 False 時執行 some_statement_2\n",
    "    ```\n",
    "- 如果 `if` 語句後面只有一個指令要做的話，可以簡單的寫成一行：\n",
    "    ```python\n",
    "    if condition: expression\n",
    "    ```\n",
    "- 如果 `if...else` 語句，`if` 和 `else` 的後面都只有一個指令要做的話，可以簡單寫成一行：\n",
    "    ```python\n",
    "    expression_1 if condition else expression_2\n",
    "    ```\n",
    "    - 類似 C-like 語言當中的 `condition ? expression_1 : expression_2` 語句"
   ]
  },
  {
   "cell_type": "code",
   "execution_count": 14,
   "metadata": {},
   "outputs": [
    {
     "output_type": "stream",
     "name": "stdout",
     "text": "False\nTrue\nTrue\nTrue\nFalse\nTrue\n"
    }
   ],
   "source": [
    "# 基本條件判斷\n",
    "print(1 > 3)  # 因為 1 並非大於 3，輸出 False\n",
    "print(1 < 3)  # 因為 1 小於 3，輸出 True\n",
    "print(1 >= 1) # 因為 1 等於 1，輸出 True\n",
    "print(3 <= 5) # 因為 3 小於 5，輸出 True\n",
    "print(1 == 0) # 因為 1 並非等於 0，輸出 False\n",
    "print(2 != 3) # 因為 2 不等於 3，輸出 True"
   ]
  },
  {
   "cell_type": "code",
   "execution_count": 15,
   "metadata": {},
   "outputs": [
    {
     "output_type": "stream",
     "name": "stdout",
     "text": "False\n"
    }
   ],
   "source": [
    "# 用於字串比較時，照字典順序決定大小\n",
    "print('abc' > 'def')  # 由於 'a' 的 unicode 小於 'd'，輸出 False"
   ]
  },
  {
   "cell_type": "code",
   "execution_count": 16,
   "metadata": {},
   "outputs": [
    {
     "output_type": "stream",
     "name": "stdout",
     "text": "True\nTrue\n"
    }
   ],
   "source": [
    "# 判斷相同記憶體位置\n",
    "print(1 is 1)         # 用於數值型態時，與 == 功能相同，因為 1 == 1，輸出 True\n",
    "print('abc' is 'abc') # 同上，輸出 True"
   ]
  },
  {
   "cell_type": "code",
   "execution_count": 17,
   "metadata": {},
   "outputs": [
    {
     "output_type": "stream",
     "name": "stdout",
     "text": "False\n140589719007048\n140589719028360\nTrue\n140589719028360\n140589719028360\n"
    }
   ],
   "source": [
    "l5 = [1, 2, 3]\n",
    "l6 = [1, 2, 3]\n",
    "print(l5 is l6) # 用於非數值型態時，檢查兩個物件是否存在於同一個記憶體位址\n",
    "                # 由於分別宣告的變數必定擁有不同的位址，輸出 False\n",
    "print(id(l5))   # 輸出 l5 的記憶體位置\n",
    "print(id(l6))   # 輸出 l6 的記憶體位置\n",
    "\n",
    "l5 = l6\n",
    "print(l5 is l6) # 將 l6 的記憶體位址 assign 給 l5 這個變數，\n",
    "                # 所以 l5 和 l6 指向同一塊記憶體位址，輸出 True\n",
    "print(id(l5))   # 輸出 l5 的記憶體位置\n",
    "print(id(l6))   # 輸出 l6 的記憶體位置"
   ]
  },
  {
   "cell_type": "code",
   "execution_count": 18,
   "metadata": {},
   "outputs": [
    {
     "output_type": "stream",
     "name": "stdout",
     "text": "True\nTrue\nTrue\n"
    }
   ],
   "source": [
    "# 成員運算子\n",
    "print('ai' in 'bait') # 用於字串型態時，檢查是否為子字串\n",
    "                      # 由於 ai 是 bait 的子字串，輸出 True\n",
    "\n",
    "l7 = [2, 3, 5, 7, 11]\n",
    "print(2 in l7)         # 用於 list（iterable）時，檢查是否為 list 中的成員之一\n",
    "                       # 由於 2 是 list l7 的第 1 個成員，輸出 True\n",
    "\n",
    "d5 = {1: 'a', 2: 'b', 3: 'c'}\n",
    "print(1 in d5)         # 用於 dict 時，檢查是否為 dict 的其中一個 key\n",
    "                       # 由於 1 是 dict d5 的 key，輸出 True"
   ]
  },
  {
   "cell_type": "code",
   "execution_count": 19,
   "metadata": {},
   "outputs": [
    {
     "output_type": "stream",
     "name": "stdout",
     "text": "True\n"
    }
   ],
   "source": [
    "# 邏輯運算優先順序\n",
    "print(True or False and not True) # = (True or (False and (not True)))\n",
    "                                  # = (True or (False and False))\n",
    "                                  # = (True or False)\n",
    "                                  # = True，輸出 True"
   ]
  },
  {
   "cell_type": "code",
   "execution_count": 20,
   "metadata": {},
   "outputs": [
    {
     "output_type": "stream",
     "name": "stdout",
     "text": "1 > 0\n"
    }
   ],
   "source": [
    "# if 語句\n",
    "if 1 > 0:\n",
    "    print('1 > 0') # 輸出 1 > 0"
   ]
  },
  {
   "cell_type": "code",
   "execution_count": 22,
   "metadata": {},
   "outputs": [
    {
     "output_type": "stream",
     "name": "stdout",
     "text": "odd\n"
    }
   ],
   "source": [
    "# if else 語句\n",
    "if 5 % 2 == 0:\n",
    "    print('even') # 因為 5 為奇數，所以不輸出 even\n",
    "else:\n",
    "    print('odd')  # 因為 5 為奇數，所以輸出 odd"
   ]
  },
  {
   "cell_type": "code",
   "execution_count": 23,
   "metadata": {},
   "outputs": [
    {
     "output_type": "stream",
     "name": "stdout",
     "text": "negative\n"
    }
   ],
   "source": [
    "# if elif else 語句\n",
    "b = -3\n",
    "if b > 0:\n",
    "    print('positive') # 因為 -3 為負數，所以不輸出 positive\n",
    "elif b < 0:\n",
    "    print('negative') # 因為 -3 為負數，所以輸出 negative，並跳過 else 語句\n",
    "else:\n",
    "    print('zero')     # 跳過不執行"
   ]
  },
  {
   "cell_type": "code",
   "execution_count": 25,
   "metadata": {},
   "outputs": [
    {
     "output_type": "stream",
     "name": "stdout",
     "text": "ai is in bait\nBye\n"
    }
   ],
   "source": [
    "# if 縮寫版本\n",
    "if 'ai' in 'bait': print('ai is in bait')          # 輸出 ai is in bait\n",
    "    \n",
    "# if else 縮寫版本\n",
    "print('Hello') if 'foo' is 'bar' else print('Bye') # 輸出 Bye"
   ]
  },
  {
   "cell_type": "markdown",
   "metadata": {},
   "source": [
    "## 迴圈\n",
    "\n",
    "### `for` 迴圈（For Loop、Iteration）\n",
    "\n",
    "- 與 `if` 語句相同皆須縮排\n",
    "- `for` 迴圈用途為依序取得序列裡的元素，並將元素指定給前面自訂的變數，再執行迴圈裡的內容\n",
    "    ```python\n",
    "    for variable in iterable:\n",
    "        some_statement # Do something\n",
    "    ```\n",
    "- `iterable` 可以為 `list`, `str`, `tuple`, `dict` 或是 `range` 函式\n",
    "    - `list`, `str`, `tuple` 會列舉每個位址中的值\n",
    "    - `dict` 會列舉所有的鍵\n",
    "    - `range` 是生成器（generator），會按照需求生成值直到滿足停止條件\n",
    "- `range` 函式\n",
    "    - 是一種生成器（generator）\n",
    "    - start 為起始值，end 為中止值(不包含)，step 為遞增(減)值 (非必要)\n",
    "    ```python\n",
    "    range(start)\n",
    "    range(start, end)\n",
    "    range(start, end, step)\n",
    "    ```\n",
    "    \n",
    "### 巢狀迴圈  (Nested Loop)\n",
    "\n",
    "- 若迴圈內容受到兩個 (或兩個以上) 的變數來分別控制其變化，此時可使用巢狀迴圈\n",
    "    ```python\n",
    "    for variable_1 in iterable_1:\n",
    "        some_statement_1 # Do something\n",
    "        for variable_2 in iterable_2:\n",
    "            some_statement_2 # Do something\n",
    "    ```\n",
    "\n",
    "### `while` 迴圈（While Loop）\n",
    "\n",
    "- 與 `if` `for` 語句相同皆須縮排\n",
    "- `while` 迴圈用途為在指定條件下，重複執行迴圈裡的內容，直到不再滿足條件為止\n",
    "    ```python\n",
    "    while condition:\n",
    "        some_statement # Do something\n",
    "    ```\n",
    "- `while` 迴圈為先計算是否滿足條件，若滿足再執行迴圈內容\n",
    "\n",
    "### `break`, `continue`  語句（Flow Control）\n",
    "\n",
    "- `break` 用途為中斷迴圈的執行並**跳脫迴圈**，繼續執行迴圈外的敘述\n",
    "- `continue` 用途為跳過迴圈內 `continue` 後面的剩餘敘述，接著繼續執行下一次的迴圈運作，**不會跳脫迴圈**"
   ]
  },
  {
   "cell_type": "code",
   "execution_count": 26,
   "metadata": {},
   "outputs": [
    {
     "output_type": "stream",
     "name": "stdout",
     "text": "1\n2\n3\nP y t h o n \n2\n4\n6\n8\n10\na:123\nb:456\n"
    }
   ],
   "source": [
    "# for 迴圈\n",
    "\n",
    "# 依序取得 list 內的所有元素\n",
    "for element in [1, 2, 3]:        # 依序取出 [1, 2, 3] 內所有值，並指定給 element\n",
    "    print(element)               # 將 element 輸出，每一輸出皆會換行\n",
    "    \n",
    "# 依序輸出 str 中的所有字元 (char)\n",
    "for character in 'Python':       # 依序取出 Python 所有字元，並指定給 character\n",
    "    print(character, end=' ')  # 用 end 指定每一輸出最後加上空白，而非換行符號\n",
    "print()                          # 輸出換行符號\n",
    "\n",
    "# 依序取得 tuple 內的所有元素\n",
    "for element in (1, 2, 3, 4, 5):  # 依序取出 (1, 2, 3, 4, 5) 內所有元素，並指定給 element\n",
    "    print(element * 2)           # 將 element * 2 後再輸出，每一輸出皆會換行\n",
    "    \n",
    "# 依序取得 dict 內的所有元素\n",
    "d6 = {'a': 123, 'b': 456}\n",
    "for key in d6:                   # 依序取出 {'a': 123, 'b': 456} 內所有鍵，並指定給 key\n",
    "    print(key, d6[key], sep=':') # 用 sep 指定輸出值之間的分隔字元為『:』，而非空白"
   ]
  },
  {
   "cell_type": "code",
   "execution_count": 27,
   "metadata": {},
   "outputs": [
    {
     "output_type": "stream",
     "name": "stdout",
     "text": "0 1 2 3 4 5 6 7 8 9 \n8 6 4 2 0 -2 -4 -6 \n1995 10 12 \n|2x1= 2|2x2= 4|2x3= 6|2x4= 8|2x5=10|2x6=12|2x7=14|2x8=16|2x9=18|\n|3x1= 3|3x2= 6|3x3= 9|3x4=12|3x5=15|3x6=18|3x7=21|3x8=24|3x9=27|\n|4x1= 4|4x2= 8|4x3=12|4x4=16|4x5=20|4x6=24|4x7=28|4x8=32|4x9=36|\n|5x1= 5|5x2=10|5x3=15|5x4=20|5x5=25|5x6=30|5x7=35|5x8=40|5x9=45|\n|6x1= 6|6x2=12|6x3=18|6x4=24|6x5=30|6x6=36|6x7=42|6x8=48|6x9=54|\n|7x1= 7|7x2=14|7x3=21|7x4=28|7x5=35|7x6=42|7x7=49|7x8=56|7x9=63|\n|8x1= 8|8x2=16|8x3=24|8x4=32|8x5=40|8x6=48|8x7=56|8x8=64|8x9=72|\n|9x1= 9|9x2=18|9x3=27|9x4=36|9x5=45|9x6=54|9x7=63|9x8=72|9x9=81|\n"
    }
   ],
   "source": [
    "# range 函式\n",
    "for number in range(10):        # 創建起始為 0 中止為 9 的整數 list，並依序取出\n",
    "    print(number, end=' ')\n",
    "print()\n",
    "\n",
    "for number in range(8, -8, -2): # 創建起始為 8 中止為 -8 且遞減值為 2 的整數 list，並依序取出\n",
    "    print(number, end=' ')\n",
    "print()\n",
    "\n",
    "l8 = [1995, 10, 12]\n",
    "for index in range(len(l8)):    # 創建起始為 0 中止為 len(l8) 的整數 list\n",
    "    print(l8[index], end = ' ') # 依序輸出 l8 中第 index 個位置的值\n",
    "print()\n",
    "\n",
    "# 巢狀迴圈九九乘法表\n",
    "for number1 in range(2, 10, 1):\n",
    "    print('|', end='')\n",
    "    for number2 in range(1, 10, 1):\n",
    "        print('{}x{}={:2d}'.format(number1, number2, number1 * number2), end='|')\n",
    "    print()"
   ]
  },
  {
   "cell_type": "code",
   "execution_count": 28,
   "metadata": {},
   "outputs": [
    {
     "output_type": "stream",
     "name": "stdout",
     "text": "0 1 2 3 4 5 6 7 8 9 \nSum 1 to 10 is 55\n|2x1= 2|2x2= 4|2x3= 6|2x4= 8|2x5=10|2x6=12|2x7=14|2x8=16|2x9=18|\n|3x1= 3|3x2= 6|3x3= 9|3x4=12|3x5=15|3x6=18|3x7=21|3x8=24|3x9=27|\n|4x1= 4|4x2= 8|4x3=12|4x4=16|4x5=20|4x6=24|4x7=28|4x8=32|4x9=36|\n|5x1= 5|5x2=10|5x3=15|5x4=20|5x5=25|5x6=30|5x7=35|5x8=40|5x9=45|\n|6x1= 6|6x2=12|6x3=18|6x4=24|6x5=30|6x6=36|6x7=42|6x8=48|6x9=54|\n|7x1= 7|7x2=14|7x3=21|7x4=28|7x5=35|7x6=42|7x7=49|7x8=56|7x9=63|\n|8x1= 8|8x2=16|8x3=24|8x4=32|8x5=40|8x6=48|8x7=56|8x8=64|8x9=72|\n|9x1= 9|9x2=18|9x3=27|9x4=36|9x5=45|9x6=54|9x7=63|9x8=72|9x9=81|\n"
    }
   ],
   "source": [
    "# while 迴圈\n",
    "\n",
    "count = 0                   # 宣告 count 為 0\n",
    "while count < 10:           # 若滿足條件 count < 10，則執行迴圈內容\n",
    "    print(count, end = ' ') # 輸出 count\n",
    "    count = count + 1       # 將 count 加 1，避免陷入無窮迴圈\n",
    "print()\n",
    "\n",
    "# 用 while loop 計算 1 到 10 的總和\n",
    "total_count = 0\n",
    "count = 1\n",
    "while count <= 10:\n",
    "    total_count = total_count + count\n",
    "    count = count + 1\n",
    "print('Sum 1 to 10 is', total_count)\n",
    "\n",
    "# nested while loop example: 九九乘法表\n",
    "number1 = 2\n",
    "while number1 < 10:\n",
    "    print('|', end='')\n",
    "    number2 = 1\n",
    "    while number2 < 10:\n",
    "        print(\"{}x{}={:2d}\".format(number1, number2, number1 * number2), end='|')\n",
    "        number2 = number2 + 1\n",
    "    number1 = number1 + 1\n",
    "    print()"
   ]
  },
  {
   "cell_type": "code",
   "execution_count": 29,
   "metadata": {},
   "outputs": [
    {
     "output_type": "stream",
     "name": "stdout",
     "text": "to\ntoay is Wenesay."
    }
   ],
   "source": [
    "# break, continue 語句\n",
    "\n",
    "# break 語句\n",
    "for character in 'today is Wednesday.':\n",
    "    if character == 'd': # 若 character 為 d 則跳脫迴圈，不再執行迴圈內容\n",
    "        break\n",
    "    print(character, end='')\n",
    "print()\n",
    "\n",
    "# continue 語句\n",
    "for character in 'today is Wednesday.':\n",
    "    if character == 'd': # 若 character 為 d 則不再執行 continue 後的內容(不輸出 char)，繼續執行迴圈\n",
    "        continue\n",
    "    print(character, end='')"
   ]
  },
  {
   "cell_type": "markdown",
   "metadata": {},
   "source": [
    "## 函數\n",
    "\n",
    "在之前的教學中，我們已經碰過許多**函數（function）**，包含 `print()` `range()` 等都屬於函數。\n",
    "而我們也可以自行定義函數，可將程式中重複出現的程式碼寫成函數，往後只要直接呼叫該函數即可。\n",
    "\n",
    "### 定義函數（Function Definition）\n",
    "\n",
    "定義函數使用關鍵字 `def`，其後空一格接**函數名稱**與**小括弧**，小括弧用來放**參數**列（Parameter List）\n",
    "\n",
    "- 函數內容與 `if`, `for` 語句相同皆須**縮排**\n",
    "- 函數可用 `return` 設定回傳值（Return Value），並可回傳多個數值\n",
    "\n",
    "```python\n",
    "def function_name(parameter1, parameter2, more_parameters):\n",
    "    some_statement # Do something\n",
    "    return some_value\n",
    "```\n",
    "    \n",
    "### 呼叫函數（Function Call）\n",
    "\n",
    "打上函數名稱，其後接小括弧，小括弧用來放**引數**列（Argument List），即完成函數的呼叫\n",
    "\n",
    "```python\n",
    "function_name(argument1, argument2, more_arguments)\n",
    "```\n",
    "    \n",
    "### 函數的引數（Arguments）\n",
    "\n",
    "函數可以使用以下三種引數：\n",
    "\n",
    "- **必選引數（Required Arguments）**\n",
    "    - 引數的順序和個數必須與函數的順序和個數相同\n",
    "- **關鍵字引數（Keyword Arguments）**\n",
    "    - 可指定引數給參數使用，引數與參數順序不必相同\n",
    "- **預設引數（Default Arguments）**\n",
    "    - 可於定義函數時給定參數的預設引數，若呼叫函數時未提供引數則使用預設引數\n",
    "      \n",
    "### 引用傳遞（Pass By Reference）\n",
    "\n",
    "在 python 中參數和引數傳遞的方式是引用傳遞。\n",
    "\n",
    "- 如果傳入的參數為**數值型態**變數，則在函數中改變了參數的值**不會**影響到原本傳入的引數。\n",
    "- 如果傳入的參數為**結構型態**變數，則在函數中改變了參數的值**會**影響到原本傳入的引數。\n",
    "\n",
    "### 匿名函數（Anonymous Function）\n",
    "\n",
    "若函數只需要短暫利用便丟棄，那麼額外創造新的函數時可以選擇使用匿名函數\n",
    "\n",
    "- 匿名函數**沒有名稱**，不會汙染當前命名空間（Namespace）\n",
    "- **必須回傳**數值\n",
    "- 為**單純函數（Pure Function）**，不會在函數內部中產生**副作用（Side Effect）**"
   ]
  },
  {
   "cell_type": "code",
   "execution_count": 30,
   "metadata": {},
   "outputs": [
    {
     "output_type": "stream",
     "name": "stdout",
     "text": "Happy birthday to you\nHappy birthday to Alice\n\nHappy birthday to you\nHappy birthday to Bob\n\nHappy birthday to you\nHappy birthday to Carlie\n\nHappy birthday to you\nHappy birthday to Daniel\n\n"
    }
   ],
   "source": [
    "# 函數\n",
    "\n",
    "# 定義函數\n",
    "def happy_birthday(name):            # 定義一個函數，名稱為 happy_birthday，參數為 name\n",
    "    print('Happy birthday to you')   # 輸出 Happy birthday to you\n",
    "    print('Happy birthday to', name) # 輸出 Happy birthday to 加上參數 name\n",
    "    print()\n",
    "    return                           # 設定回傳值為空\n",
    "\n",
    "# 呼叫函數\n",
    "for people in ['Alice', 'Bob', 'Carlie', 'Daniel']:\n",
    "    happy_birthday(people)           # 呼叫函數 happy_birthday，引數為 people"
   ]
  },
  {
   "cell_type": "code",
   "execution_count": 31,
   "metadata": {},
   "outputs": [
    {
     "output_type": "stream",
     "name": "stdout",
     "text": "happy_birthday() missing 1 required positional argument: 'name'\n"
    }
   ],
   "source": [
    "# 必選引數\n",
    "\n",
    "try:\n",
    "    happy_birthday() # 呼叫函數 happy birthday，因為少給一個必選引數 name，因此發生 error\n",
    "                     # happy_birthday() missing 1 required positional argument: 'name'\n",
    "except TypeError as err:\n",
    "    print(err)       # 輸出錯誤訊息"
   ]
  },
  {
   "cell_type": "code",
   "execution_count": 32,
   "metadata": {},
   "outputs": [
    {
     "output_type": "stream",
     "name": "stdout",
     "text": "Hi, Alice\nYour BMI is 18.426534209261334\nHi, Bob\nYour BMI is 23.889462809917354\n"
    }
   ],
   "source": [
    "# 關鍵字引數\n",
    "\n",
    "BMI_list = [\n",
    "    {'name': 'Alice', 'height': 1.58, 'weight': 46},\n",
    "    {'name': 'Bob', 'height': 1.76, 'weight': 74}\n",
    "] # 宣告 dict 結構變數\n",
    "\n",
    "def BMI(height, weight):             # 定義一個函數，名稱為 BMI，參數為 height, weight\n",
    "    return weight / (height ** 2)    # 回傳 BMI 值\n",
    "\n",
    "for data in BMI_list:\n",
    "    print('Hi, {}'.format(data['name']))\n",
    "    print('Your BMI is {}'.format(\n",
    "        BMI(weight = data['weight'], # 呼叫函數 BMI，每個引數皆指定參數名稱，因此引數順序可不必與參數相同\n",
    "            height = data['height'])\n",
    "    ))"
   ]
  },
  {
   "cell_type": "code",
   "execution_count": 33,
   "metadata": {},
   "outputs": [
    {
     "output_type": "stream",
     "name": "stdout",
     "text": "Hi, Alice\nYour BMI is 20.028841531805796\nHi, Bob\nYour BMI is 16.141528925619834\n"
    }
   ],
   "source": [
    "# 預設引數\n",
    "\n",
    "BMI_list = [\n",
    "    {'name': 'Alice', 'height': 1.58, 'weight': 46},\n",
    "    {'name': 'Bob', 'height': 1.76, 'weight': 74}\n",
    "] # 宣告 dict 結構變數\n",
    "\n",
    "def BMI(height, weight):            # 定義一個函數，名稱為 BMI，參數為 height, weight\n",
    "    return weight / (height ** 2)   # 回傳 BMI\n",
    "\n",
    "def BMI_default(height, weight=50): # 定義一個函數，名稱為 BMI_default，給定參數 weight 的預設值 50\n",
    "    return BMI(height, weight)\n",
    "\n",
    "for data in BMI_list:\n",
    "    print('Hi, {}'.format(data['name']))\n",
    "    print('Your BMI is {}'.format(\n",
    "        BMI_default(data['height']) # 呼叫函數 BMI_default\n",
    "    ))                              # 因參數 weight 有預設值，因此可不必給 weight 數值"
   ]
  },
  {
   "cell_type": "code",
   "execution_count": 34,
   "metadata": {},
   "outputs": [
    {
     "output_type": "stream",
     "name": "stdout",
     "text": "before change_dict\n{'rewrite': 'no'}\nafter change_dict\n{'rewrite': 'yes'}\n"
    }
   ],
   "source": [
    "# 引用傳遞\n",
    "\n",
    "d7 = {'rewrite': 'no'}               # 宣告 dict 結構變數\n",
    "print('before change_dict')\n",
    "print(d7)                            # 輸出更改前的結果\n",
    "\n",
    "def change_dict(argument_dict):      # 定義一個函數，名稱為 change_dict，參數為 argument_dict\n",
    "    argument_dict['rewrite'] = 'yes' # 更改參數 argument_dict 的內容，即更改引數 d7 的內容\n",
    "\n",
    "change_dict(d7)                      # 呼叫函數 change_dict\n",
    "print('after change_dict')\n",
    "print(d7)                            # 輸出更改後的結果\n",
    "                                     # 與原本宣告的 d7 內容不同，原因為引數傳遞 (pass by reference)"
   ]
  },
  {
   "cell_type": "code",
   "execution_count": 35,
   "metadata": {},
   "outputs": [
    {
     "output_type": "stream",
     "name": "stdout",
     "text": "['a', 'b', 'c', 'd']\n['d', 'a', 'c', 'b']\n"
    }
   ],
   "source": [
    "# 匿名函數\n",
    "\n",
    "d8 = { # 宣告 dict 結構變數\n",
    "    'a': 2,\n",
    "    'b': 4,\n",
    "    'c': 3,\n",
    "    'd': 1\n",
    "}\n",
    "\n",
    "print(sorted(d8))           # 排序 dict d8\n",
    "                            # 預設使用 d8 的鍵值進行排序\n",
    "\n",
    "d8_sorted = sorted(         # 排序 dict d8\n",
    "    d8,\n",
    "    key=lambda key: d8[key] # 使用匿名函數取出 d8 中的配對值\n",
    ")                           # 並改用配對值進行比較大小\n",
    "\n",
    "print(d8_sorted)"
   ]
  },
  {
   "cell_type": "markdown",
   "metadata": {},
   "source": [
    "## 類別\n",
    "\n",
    "**類別（Class）** 用來定義自己需要的**物件（Object）** 結構。\n",
    "\n",
    "### 定義類別（Class Definition）\n",
    "\n",
    "定義類別使用 `class` ，裡頭可定義類別的\n",
    "\n",
    "- **類別屬性（Class Attribute）**\n",
    "    - 與類別相關的數值或結構型態變數\n",
    "    - 不需要產生實體也能使用\n",
    "- **實體屬性（Instance Attribute）**\n",
    "    - 透過類別創造出的物件的數值或結構型態變數\n",
    "    - 需要產生實體才能使用\n",
    "    - 需要透過實體才能夠使用\n",
    "    - 每個實體之間屬性可能不同\n",
    "- **實體方法 （Instance Method）**\n",
    "    - 透過類別定義的函數\n",
    "    - 需要產生實體才能使用\n",
    "    - 需要透過實體才能夠使用\n",
    "    - 每個實體之間呼叫結果可能不同\n",
    "\n",
    "```python\n",
    "class ClassName:                                      # 類別名稱\n",
    "    class_attribute_1 = some_expression_1             # 類別屬性\n",
    "    class_attribute_2 = some_expression_2             # 類別屬性\n",
    "    \n",
    "    def __init__(self, parameters):                   # 類別建構函數 (constructor)\n",
    "        self.instance_attribute_1 = some_expression_3 # 實體屬性\n",
    "        self.instance_attribute_2 = some_expression_4 # 實體屬性\n",
    "    \n",
    "    def method1(self, parameters):                    # 實體方法\n",
    "        ClassName.class_attribute_1                   # 透過類別呼叫類別屬性\n",
    "        ClassName.class_attribute_2                   # 透過類別呼叫類別屬性\n",
    "        self.instance_attribute_1                     # 透過實體呼叫實體屬性\n",
    "        self.instance_attribute_2                     # 透過實體呼叫實體屬性\n",
    "        \n",
    "    def method2(self, parameters):                    # 實體方法\n",
    "        self.method1(parameters)                      # 透過實體呼叫實體方法\n",
    "```\n",
    "\n",
    "### 宣告物件（Class Declaration）\n",
    "\n",
    "宣告一個為類別的物件，並取用類別的屬性（Attribute）與方法（Method）\n",
    "\n",
    "```python\n",
    "class_instance = ClassName(parameters_list) # 透過類別創造實體\n",
    "class_instance.instance_attribute_1         # 透過實體使用實體屬性\n",
    "class_instance.instance_attribute_2         # 透過實體使用實體屬性\n",
    "class_instance.method1()                    # 透過實體使用實體方法\n",
    "class_instance.method2()                    # 透過實體使用實體方法\n",
    "\n",
    "ClassName.class_attribute_1                 # 透過類別使用類別屬性\n",
    "ClassName.class_attribute_2                 # 透過類別使用類別屬性\n",
    "```\n",
    "\n",
    "### 實體傳遞（Instance Reference）\n",
    "\n",
    "在 python 類別定義中 `self` 為**預設的參數**，代表建立的**物件實體**。\n",
    "\n",
    "- 類似 C-like 語言中的 this pointer\n",
    "- 必定為參數中的第一個\n",
    "- 不一定要取名為 `self`，可以使用任意名字\n",
    "\n",
    "### 繼承（Inheritance）\n",
    "\n",
    "可定義一個繼承親屬類別（Parent Class）的子類別（Child Class）：\n",
    "\n",
    "```python\n",
    "class ParentClass:                         # 定義 ParentClass 類別\n",
    "    parent_class_attribute = some_expression_1\n",
    "    \n",
    "    def __init__(self, parameters):\n",
    "        self.parent_instance_attribute = some_expression_2\n",
    "    \n",
    "    def parent_method(self, parameters):\n",
    "        some_statement\n",
    "        \n",
    "\n",
    "class ChildClass(ParentClass):             # 定義類別 ChildClass 繼承於 ParentClass\n",
    "    def __init__(self, parameters):\n",
    "        super().__init__(parameters)       # 執行 ParentClass.__init__\n",
    "        \n",
    "        ChildClass.parent_class_attribute  # 透過子類別取得親屬類別屬性\n",
    "        self.parent_instance_attribute     # 透過子類別實體取得親屬類別實體屬性\n",
    "        self.parent_method()               # 透過子類別實體呼叫親屬類別實體方法\n",
    "```"
   ]
  },
  {
   "cell_type": "code",
   "execution_count": null,
   "metadata": {},
   "outputs": [],
   "source": [
    "# 定義類別\n",
    "\n",
    "class Person:                        # 定義名稱為 Person 的類別\n",
    "                                     # 建構函數 (constructor)，定義此類別的屬性\n",
    "    def __init__(self,               # self 代表建立的物件實體，取用實體的屬性及方法皆須加上 self\n",
    "                 first_name,         # 名稱\n",
    "                 last_name,          # 姓氏\n",
    "                 height,             # 身高\n",
    "                 weight):            # 體重\n",
    "        self.first_name = first_name # 定義實體的名稱 = 傳入參數的名稱\n",
    "        self.last_name = last_name   # 定義實體的姓氏 = 傳入參數的姓氏\n",
    "        self.height = height         # 定義實體的身高 = 傳入參數的身高\n",
    "        self.weight = weight         # 定義實體的體重 = 傳入參數的體重\n",
    "    \n",
    "    def get_name(self):              # 定義實體方法 get_name，回傳姓名\n",
    "        return self.first_name + ' ' + self.last_name\n",
    "    \n",
    "    def get_BMI(self):               # 定義實體方法 getBMI，回傳 BMI 數值\n",
    "        return self.weight / (self.height ** 2)\n",
    "        \n",
    "    def get_info(self):              # 定義實體方法 get_info，回傳姓名與 BMI 數值\n",
    "        return self.get_name() + ', BMI: ' + str(self.get_BMI())\n",
    "    \n",
    "# 創造類別實體\n",
    "\n",
    "person1 = Person('Felix',            # 宣告 person1 為類別 Person 的實體\n",
    "                 'Kjellberg',\n",
    "                 1.81,\n",
    "                 93)\n",
    "\n",
    "print(person1.first_name)            # 取得 person1 屬性 first_name 並輸出\n",
    "print(person1.last_name)             # 取得 person1 屬性 last_name 並輸出\n",
    "print(person1.height)                # 取得 person1 屬性 height 並輸出\n",
    "print(person1.weight)                # 取得 person1 屬性 weight 並輸出\n",
    "print(person1.get_name())            # 呼叫 person1 方法 get_name 並輸出\n",
    "print(person1.get_BMI())             # 呼叫 person1 方法 get_BMI 並輸出\n",
    "print(person1.get_info())            # 呼叫 person1 方法 get_info 並輸出\n",
    "\n",
    "person2 = Person('Marzia',           # 宣告 person2 為類別 Person 的實體\n",
    "                 'Bisognin',\n",
    "                 1.65,\n",
    "                 63)\n",
    "\n",
    "print(person2.get_info())            # 呼叫 person2 方法 get_info 並輸出"
   ]
  },
  {
   "cell_type": "code",
   "execution_count": null,
   "metadata": {},
   "outputs": [],
   "source": [
    "# 繼承\n",
    "\n",
    "class Car:                                         # 定義類別 Car\n",
    "    def __init__(self, max_velocity):              # 定義此類別的實體屬性\n",
    "        self.max_velocity = max(max_velocity, 100) # 最高速度\n",
    "        self.acceleration = 10                     # 加速度\n",
    "        self.velocity = 0                          # 當前速度\n",
    "        \n",
    "    def speed_up(self):                            # 加速\n",
    "        self.velocity += self.acceleration\n",
    "        if self.velocity > self.max_velocity:      # 當前速度無法超過最高速度\n",
    "            self.velocity = self.max_velocity\n",
    "    \n",
    "    def slow_down(self):                           # 減速\n",
    "        self.velocity -= self.acceleration\n",
    "        if self.velocity < 0:                      # 當前速度無法低於 0\n",
    "            self.velocity = 0\n",
    "\n",
    "class Lamborghini(Car):                            # 定義類別 Lamborghini\n",
    "    def __init__(self, max_velocity):              # 定義此類別的實體屬性\n",
    "        super().__init__(max_velocity)             # 繼承所有親屬類別的實體屬性\n",
    "        self.max_velocity = max(max_velocity, 300) # 改寫最高速度\n",
    "        self.acceleration = 30                     # 改寫加速度\n",
    "\n",
    "class Yulon(Car):                                  # 定義類別 Yulon\n",
    "    def __init__(self, max_velocity):              # 定義此類別的實體屬性\n",
    "        super().__init__(max_velocity)             # 繼承所有親屬類別的實體屬性\n",
    "        self.max_velocity = max(max_velocity, 50)  # 改寫最高速度\n",
    "        self.acceleration = 0                      # 改寫加速度\n",
    "\n",
    "def car_test(car):                                 # 測試函數，協助測試各個類別的實體\n",
    "    \n",
    "    print('---start car {} test---'                # 輸出當前測試實體所屬類別名稱\n",
    "          .format(car.__class__.__name__))\n",
    "    print('initial speed: {} m/s'                  # 輸出初始速度\n",
    "          .format(car.velocity))\n",
    "    for speed_up_times in range(1, 4):             # 加速 3 次\n",
    "        car.speed_up()\n",
    "        print('speed up {} time(s), current speed: {} m/s'\n",
    "              .format(speed_up_times, car.velocity))\n",
    "    for slow_down_times in range(1, 3):\n",
    "        car.slow_down()                            # 減速 2 次\n",
    "        print('slow up {} time(s), current speed: {} m/s'\n",
    "              .format(slow_down_times, car.velocity))\n",
    "    print('---end car {} test---'                  # 輸出結束測試訊息\n",
    "          .format(car.__class__.__name__))\n",
    "    print()\n",
    "    \n",
    "car1 = Car(100)\n",
    "car2 = Lamborghini(300)\n",
    "car3 = Yulon(50)\n",
    "\n",
    "car_test(car1)\n",
    "car_test(car2)\n",
    "car_test(car3)"
   ]
  },
  {
   "cell_type": "markdown",
   "metadata": {},
   "source": [
    "## 模組\n",
    "\n",
    "- python 提供內建模組，例如 `math`, `re`, `os` 等\n",
    "- python 也提供安裝模組的功能，主要是透過 `pip` 或是 `conda` 等工具進行安裝\n",
    "\n",
    "### 匯入模組（Module Import）\n",
    "\n",
    "使用 `import` 匯入模組。\n",
    "\n",
    "```python\n",
    "import module_name           # 匯入模組\n",
    "\n",
    "module_name.module_attribute # 透過模組使用模組屬性\n",
    "module_name.module_method()  # 透過模組使用模組方法\n",
    "```\n",
    "\n",
    "使用 `from ... import` **直接匯入**模組屬性或方法。\n",
    "\n",
    "```python\n",
    "from module_name import module_attribute # 直接匯入模組屬性\n",
    "\n",
    "module_attribute                         # 直接使用模組屬性\n",
    "\n",
    "from module_name import module_method    # 直接匯入模組方法\n",
    "\n",
    "module_method()                          # 直接使用模組方法\n",
    "```\n",
    "\n",
    "- `import` 如同 C-like 語言中的 `include`，提供獨立的變數名稱空間（Namespace）\n",
    "- `from ... import` 將模組屬性或方法之接引入當前變數空間\n",
    "    - 讓全域變數（Global Variable）變得更多\n",
    "    - 雖然方便，但是容易產生變數名稱衝突，**不建議使用**\n",
    "\n",
    "### 子模組（Submodule）\n",
    "\n",
    "若模組包含多個子模組，則使用 `.` 進行匯入。\n",
    "\n",
    "```python\n",
    "import parent_module                        # 匯入模組\n",
    "import parent_module.child_module           # 匯入子模組\n",
    "\n",
    "parent_module.child_module.module_attribute # 透過子模組使用模組屬性\n",
    "parent_module.child_module.module_method()  # 透過子模組使用模組方法\n",
    "```\n",
    "\n",
    "### 更改名稱（Rename）\n",
    "\n",
    "python 提供更改模組名稱的語法 `as`。\n",
    "\n",
    "```python\n",
    "import module1.submodule.subsubmodule as m # 匯入模組且更改名稱\n",
    "\n",
    "m.module_attribute                         # 透過更改名稱的模組使用模組屬性\n",
    "m.module_method()                          # 透過更改名稱的模組使用模組方法\n",
    "```"
   ]
  },
  {
   "cell_type": "code",
   "execution_count": null,
   "metadata": {},
   "outputs": [],
   "source": [
    "# 匯入模組\n",
    "\n",
    "import math         # 匯入模組 math\n",
    "\n",
    "print(math.pi)      # 使用 math 模組屬性圓周率\n",
    "print(math.sqrt(4)) # 呼叫 math 模組方法，計算 4 的平方根\n",
    "print(math.log(10)) # 呼叫 math 模組方法，計算以自然對數為底的真數為 10 的對數值"
   ]
  },
  {
   "cell_type": "code",
   "execution_count": null,
   "metadata": {},
   "outputs": [],
   "source": [
    "from math import pi   # 匯入模組 math 屬性圓周率\n",
    "from math import sqrt # 匯入模組 math 方法平方根\n",
    "from math import log  # 匯入模組 math 方法對數\n",
    "\n",
    "print(pi)             # 輸出圓周率\n",
    "print(sqrt(4))        # 計算 4 的平方根\n",
    "print(log(10))        # 計算以自然對數為底的真數為 10 的對數值"
   ]
  },
  {
   "cell_type": "code",
   "execution_count": null,
   "metadata": {},
   "outputs": [],
   "source": [
    "# 匯入子模組\n",
    "\n",
    "import os.path               # 匯入模組 os 中的子模組 path\n",
    "\n",
    "print(os.path.abspath('./')) # 呼叫 os.path 子模組方法，輸出當前資料夾絕對路徑"
   ]
  },
  {
   "cell_type": "code",
   "execution_count": null,
   "metadata": {},
   "outputs": [],
   "source": [
    "# 更改名稱\n",
    "\n",
    "import os.path as path       # 匯入模組 os 中的子模組 path，並改名為 path\n",
    "\n",
    "print(path.abspath('./'))    # 呼叫 path 模組方法，輸出當前資料夾絕對路徑"
   ]
  },
  {
   "cell_type": "markdown",
   "metadata": {},
   "source": [
    "## 錯誤處理\n",
    "\n",
    "### 基本語法\n",
    "\n",
    "與 C-like 語言相同，python 提供 `try ... except` 進行錯誤處理。\n",
    "\n",
    "- 與 `if`, `for` 語句相同皆須**縮排**\n",
    "- 使用 `raise` 主動製造錯誤\n",
    "\n",
    "```python\n",
    "try:                 # 錯誤包容區塊\n",
    "    some_statements\n",
    "except Error as err: # 錯誤處理區塊\n",
    "    error_handle_statement\n",
    "```\n",
    "\n",
    "同一個錯誤處理區塊可以處理**多種不同的錯誤**。\n",
    "\n",
    "```python\n",
    "try:                  # 錯誤包容區塊\n",
    "    some_statements\n",
    "except Error1 as err: # 錯誤處理區塊 1\n",
    "    error_handle_statement\n",
    "except Error2 as err: # 錯誤處理區塊 2\n",
    "    error_handle_statement\n",
    "```\n",
    "\n",
    "如果不論錯誤是否發生**皆需要執行**某些指令，可以使用 `finally` 的區塊執行指令：\n",
    "\n",
    "```python\n",
    "try:                 # 錯誤包容區塊\n",
    "    some_statement\n",
    "except Error as err: # 錯誤處理區塊\n",
    "    error_handle_statement\n",
    "finally:             # 必定執行區塊\n",
    "    some_must_do_statement\n",
    "```\n",
    "\n",
    "### 內建錯誤\n",
    "\n",
    "以下列舉部份內建錯誤型態：\n",
    "\n",
    "\n",
    "|錯誤型態|意義|\n",
    "|-|-|\n",
    "|`IndexError`|當 `list` 存取不存在的位置|\n",
    "|`KeyError`|當 `dict` 存取不存在的鍵值|\n",
    "|`TypeError`|當函數使用參數的型態不正確時|\n",
    "|`ValueError`|當函數使用參數的型態正確但數值範圍不正確時|"
   ]
  },
  {
   "cell_type": "code",
   "execution_count": null,
   "metadata": {},
   "outputs": [],
   "source": [
    "# 基本語法\n",
    "\n",
    "try:\n",
    "    print('before error')          # 正常執行\n",
    "    \n",
    "    raise ValueError('oops')       # 主動丟出錯誤\n",
    "    \n",
    "    print('after error')           # 因為已經發生錯誤，所以不會執行\n",
    "except ValueError as err:          # 錯誤處理\n",
    "    print(type(err) == ValueError) # 錯誤種類為 ValueError，所以輸出 True\n",
    "    print(err)                     # 輸出錯誤訊息"
   ]
  },
  {
   "cell_type": "code",
   "execution_count": null,
   "metadata": {},
   "outputs": [],
   "source": [
    "try:\n",
    "    print('before error')   # 正常執行\n",
    "    \n",
    "    raise TypeError('oops') # 主動丟出錯誤\n",
    "    \n",
    "    print('after error')    # 因為已經發生錯誤，所以不會執行\n",
    "except ValueError as err:   # 因為錯誤種類不是 ValueError，所以不會執行\n",
    "    print('ValueError')\n",
    "except TypeError as err:    # 因為錯誤種類是 TypeError，所以執行錯誤處理\n",
    "    print('TypeError')"
   ]
  },
  {
   "cell_type": "code",
   "execution_count": null,
   "metadata": {},
   "outputs": [],
   "source": [
    "try:                         # 沒有錯誤發生\n",
    "    print('no error')        # 正常執行\n",
    "except ValueError as err:    # 沒有錯誤發生所以不會執行\n",
    "    print('ValueError')\n",
    "finally:                     # 沒有錯誤發生仍然會執行\n",
    "    print('must execute')\n",
    "\n",
    "try:                         # 有錯誤發生\n",
    "    print('before error')    # 正常執行\n",
    "    \n",
    "    raise ValueError('oops') # 主動丟出錯誤\n",
    "    \n",
    "    print('after error')     # 因為已經發生錯誤，所以不會執行\n",
    "except ValueError as err:    # 錯誤處理\n",
    "    print(err)\n",
    "finally:                     # 有錯誤發生仍然會執行\n",
    "    print('must execute')"
   ]
  },
  {
   "cell_type": "code",
   "execution_count": null,
   "metadata": {},
   "outputs": [],
   "source": [
    "# 內建錯誤\n",
    "\n",
    "try:\n",
    "    l9 = [1, 2, 3]\n",
    "    l9[3]                 # 存取 list l9 不存在的位置\n",
    "                          # 觸發 IndexError\n",
    "except IndexError as err: # 處理 IndexError\n",
    "    print(err)\n",
    "\n",
    "try:\n",
    "    d9 = {'a': 123}\n",
    "    d9['b']               # 存取 dict d9 不存在的鍵值\n",
    "                          # 觸發 KeyError\n",
    "except KeyError as err:   # 處理 KeyError\n",
    "    print(err)\n",
    "    \n",
    "import math\n",
    "\n",
    "try:\n",
    "    math.log('abc')       # math.log 輸入為數字而不是字串\n",
    "                          # 觸發 TypeError\n",
    "except TypeError as err:  # 處理 TypeError\n",
    "    print(err)\n",
    "\n",
    "try:\n",
    "    math.log(-1)          # math.log 輸入不可以為負數\n",
    "                          # 觸發 ValueError\n",
    "except ValueError as err: # 處理 ValueError\n",
    "    print(err)"
   ]
  }
 ],
 "metadata": {
  "kernelspec": {
   "display_name": "Python 3",
   "language": "python",
   "name": "python3"
  },
  "language_info": {
   "codemirror_mode": {
    "name": "ipython",
    "version": 3
   },
   "file_extension": ".py",
   "mimetype": "text/x-python",
   "name": "python",
   "nbconvert_exporter": "python",
   "pygments_lexer": "ipython3",
   "version": "3.7.1-final"
  }
 },
 "nbformat": 4,
 "nbformat_minor": 4
}