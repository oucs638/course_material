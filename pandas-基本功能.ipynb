{
 "cells": [
  {
   "cell_type": "markdown",
   "metadata": {},
   "source": [
    "# pandas-基本功能\n",
    "\n",
    "## 教學目標\n",
    "\n",
    "這份教學的目標是介紹基本的 pandas 功能，並學習快速操作大量的資料。\n",
    "\n",
    "## 適用對象\n",
    "\n",
    "適用於有程式基礎，且擁有 python 和 `numpy` 基礎的學生。\n",
    "\n",
    "若沒有先學過 python，請參考 [python-入門語法](./python-入門語法.ipynb) 教學。\n",
    "\n",
    "若沒有先學過 `numpy`，請參考 [numpy-基本功能](./numpy-基本功能.ipynb) 教學。\n",
    "\n",
    "## 執行時間\n",
    "\n",
    "本教學全部執行時間約為 1.3843801021575928 秒。\n",
    "\n",
    "|測試環境|名稱|\n",
    "|-|-|\n",
    "|主機板|X570 AORUS ELITE|\n",
    "|處理器|AMD Ryzen 7 3700X 8-Core Processor|\n",
    "|記憶體|Kingston KHX3200C16D4/16GX|\n",
    "|硬碟|Seagate ST1000DM003-1ER1|\n",
    "|顯示卡|GeForce RTX 2080|\n",
    "|作業系統|Ubuntu 18.04 LTS|"
   ]
  },
  {
   "cell_type": "markdown",
   "metadata": {},
   "source": [
    "## 大綱\n",
    "\n",
    "- [簡介](#簡介)\n",
    "- [安裝](#安裝)\n",
    "- [資料結構](#資料結構)\n",
    "- [操作資料](#操作資料)\n",
    "- [讀取資料](#讀取資料)\n",
    "- [練習](#練習)"
   ]
  },
  {
   "cell_type": "markdown",
   "metadata": {},
   "source": [
    "## 簡介\n",
    "\n",
    "根據 [pandas 官方網站](https://pandas.pydata.org/)（v1.0）：\n",
    "\n",
    "> pandas is a fast, powerful, flexible and easy to use open source data analysis and manipulation tool,\n",
    "built on top of the Python programming language.\n",
    ">\n",
    "> pandas 是基於 python 開發的一個快速、強大、具有彈性且容易使用的開源資料分析與操作工具。\n",
    "\n",
    "`pandas` 提供**讀取**或**輸出**以下資料格式的功能：\n",
    "\n",
    "- CSV\n",
    "- JSON\n",
    "- HTML\n",
    "- Microsoft Excel\n",
    "- OpenDocument Excel\n",
    "- SQL databases\n",
    "- pickle\n",
    "- Google BigQuery\n",
    "\n",
    "讀取資料後，`pandas` 能夠對資料進行以下的操作：\n",
    "\n",
    "- **索引（Index**）與**選取（Select）** 資料\n",
    "- **合併（Merge）**、**結合（Join）** 與**串接（Concatenate）** 資料\n",
    "- **統計（Statistic）** 與**視覺化（Visualization）**"
   ]
  },
  {
   "cell_type": "markdown",
   "metadata": {},
   "source": [
    "## 安裝\n",
    "\n",
    "透過 `pip` 安裝 `pandas`：\n",
    "\n",
    "```sh\n",
    "pip install pandas\n",
    "```"
   ]
  },
  {
   "cell_type": "code",
   "execution_count": 1,
   "metadata": {},
   "outputs": [],
   "source": [
    "# 匯入 pandas 模組\n",
    "\n",
    "import pandas as pd\n",
    "\n",
    "# 匯入 numpy 模組\n",
    "\n",
    "import numpy as np"
   ]
  },
  {
   "cell_type": "markdown",
   "metadata": {},
   "source": [
    "## 資料結構\n",
    "\n",
    "由於 `pandas` 是基於 python 與 `numpy` 進行開發，所以 `pandas` 也使用了 `numpy` 中的概念：\n",
    "\n",
    "- 維度：`pandas.Series.shape` 即 `numpy.shape`\n",
    "- 資料型態：`pandas.Series.dtype` 即 `numpy.dtype`\n",
    "\n",
    "### Series\n",
    "\n",
    "`pandas.Series` 為**維度為 1**且**資料型態皆相同**的結構。\n",
    "\n",
    "- 操作方法與操作 `numpy.ndarray` 陣列相同\n",
    "    - 使用 `[位置]` 取值\n",
    "    - 使用 `[起始位置:結束位置]` 取連續值\n",
    "        - 包含起始位置\n",
    "        - **不包含**結束位置\n",
    "- 可以給予每個 `pandas.Series` 位置中的值一個名字\n",
    "    - 使用 `index` 參數進行命名\n",
    "    - 使用 `[index 名稱]` 取值\n",
    "    - 使用 `[起始 index 名稱:結束 index 名稱]` 取連續值\n",
    "        - 包含起始位置\n",
    "        - **包含**結束位置\n",
    "- 可以給予 `pandas.Series` 一個名字\n",
    "    - 使用 `name` 參數進行命名\n",
    "- 透過給予名稱讓資料具有**可閱讀性**\n",
    "\n",
    "### DataFrame\n",
    "\n",
    "`pandas.DataFrame` 為**維度為 2**，**資料型態不一定相同**的結構。\n",
    "\n",
    "- 由一個或多個 `pandas.Series` 所組成\n",
    "- 以**表格**的方式呈現與操作（如同 SQL）\n",
    "    - 使用**行（row）** 與**列（column）** 進行操作\n",
    "    - 每列都會自動被轉換成 `pandas.Series`\n",
    "- 取值方法\n",
    "    - 先選擇**行（column）**，再使用**列的位置（row position）**取值\n",
    "        - 同 `pandas.Series` 的操作方式\n",
    "    - 先選擇**列（row position）**，再使用**行的位置（column position）** 或**名稱（column index）** 取值\n",
    "        - 必須使用 `pandas.DataFrame.iloc[位置]`\n",
    "    - 先選擇**列的名稱（row index）**，再使用**行的位置（column position）** 或**名稱（column index）** 取值\n",
    "        - 使用 `index` 參數進行命名\n",
    "        - 必須使用 `pandas.DataFrame.loc[名稱]`\n",
    "    - 支援連續取值，與 `pandas.Series` 操作方法相同\n",
    "- 透過給予名稱讓資料具有**可閱讀性**"
   ]
  },
  {
   "cell_type": "code",
   "execution_count": 2,
   "metadata": {},
   "outputs": [
    {
     "output_type": "stream",
     "name": "stdout",
     "text": "0    1\n1    2\n2    3\ndtype: int64\n\nTrue\nint64\n(3,)\n\n0    1.0\n1    2.0\n2    3.0\ndtype: float64\n\nTrue\nfloat64\n(3,)\n"
    }
   ],
   "source": [
    "# Series\n",
    "\n",
    "s1 = pd.Series([1, 2, 3])    # 宣告 Series 變數\n",
    "\n",
    "print(s1)                    # 輸出 Series s1\n",
    "print()\n",
    "print(type(s1) == pd.Series) # s1 型態為 Series，輸出 True\n",
    "print(s1.dtype)              # s1 中的數值型態為整數，輸出 int64\n",
    "print(s1.shape)              # s1 維度為 1，共 3 個數值，輸出 (3,)\n",
    "print()\n",
    "\n",
    "s2 = pd.Series([1., 2., 3.])\n",
    "\n",
    "print(s2)                    # 輸出 Series s2\n",
    "print()\n",
    "print(type(s2) == pd.Series) # s2 型態為 Series，輸出 True\n",
    "print(s2.dtype)              # s2 中的數值型態為浮點數，輸出 float64\n",
    "print(s2.shape)              # s2 維度為 1，共 3 個數值，輸出 (3,)"
   ]
  },
  {
   "cell_type": "code",
   "execution_count": 3,
   "metadata": {
    "scrolled": true
   },
   "outputs": [
    {
     "output_type": "stream",
     "name": "stdout",
     "text": "1st    1\n2nd    2\n3rd    3\nName: my series, dtype: int64\n\nmy series\nIndex(['1st', '2nd', '3rd'], dtype='object')\n\n1\n1\n2\n2\n3\n3\n\n1st    1\n2nd    2\nName: my series, dtype: int64\n\n1st    1\n2nd    2\n3rd    3\nName: my series, dtype: int64\n"
    }
   ],
   "source": [
    "s3 = pd.Series(        # 宣告 Series 變數\n",
    "    [1, 2, 3,],\n",
    "    index=['1st', '2nd', '3rd'],\n",
    "    name='my series'\n",
    ")\n",
    "\n",
    "print(s3)              # 輸出 Series s3\n",
    "print()\n",
    "print(s3.name)         # 輸出 Series s3 的名字 my series\n",
    "print(s3.index)        # 依序輸出 Series s3 中所有值名字\n",
    "print()\n",
    "\n",
    "print(s3[0])           # 輸出 Series s3 位置 0 的值\n",
    "print(s3['1st'])       # 輸出 Series s3 中名稱為 1st 的值\n",
    "print(s3[1])           # 輸出 Series s3 位置 1 的值\n",
    "print(s3['2nd'])       # 輸出 Series s3 中名稱為 2nd 的值\n",
    "print(s3[2])           # 輸出 Series s3 位置 2 的值\n",
    "print(s3['3rd'])       # 輸出 Series s3 中名稱為 3rd 的值\n",
    "print()\n",
    "\n",
    "print(s3[0:2])         # 輸出 Series s3 位置 0, 1 但不包含位置 2 的值\n",
    "print()\n",
    "print(s3['1st':'3rd']) # 輸出 Series s3 名稱為 1st 的值位置到名稱為 3rd 的值位置\n",
    "                       # 與 list 不同，包含 3rd 的位置"
   ]
  },
  {
   "cell_type": "code",
   "execution_count": 4,
   "metadata": {},
   "outputs": [
    {
     "output_type": "stream",
     "name": "stdout",
     "text": "col1  col2 col3\n0     1   5.0    a\n1     2   6.0    b\n2     3   7.0    c\n3     4   8.0    d\n\nTrue\n0    1\n1    2\n2    3\n3    4\nName: col1, dtype: int64\n\nTrue\nint64\n(4,)\n\n0    5.0\n1    6.0\n2    7.0\n3    8.0\nName: col2, dtype: float64\n\nTrue\nfloat64\n(4,)\n\n0    a\n1    b\n2    c\n3    d\nName: col3, dtype: object\n\nTrue\nobject\n(4,)\n"
    }
   ],
   "source": [
    "# DataFrame\n",
    "\n",
    "df1 = pd.DataFrame({ # 宣告 DataFrame 變數\n",
    "    'col1': [1, 2, 3, 4],\n",
    "    'col2': [5., 6., 7., 8.],\n",
    "    'col3': ['a', 'b', 'c', 'd']\n",
    "})\n",
    "\n",
    "print(df1)                            # 輸出 DataFrame df1\n",
    "print()\n",
    "print(type(df1) == pd.DataFrame)      # df1 型態為 DataFrame，輸出 True\n",
    "\n",
    "print(df1['col1'])                    # 輸出 DataFrame df1 名稱為 col1 的行\n",
    "print()\n",
    "print(type(df1['col1']) == pd.Series) # df1['col1'] 型態為 Series，輸出 True\n",
    "print(df1['col1'].dtype)              # df1['col1'] 中的數值型態為整數，輸出 int64\n",
    "print(df1['col1'].shape)              # df1['col1'] 維度為 1，共 4 個數值，輸出 (4,)\n",
    "print()\n",
    "\n",
    "print(df1['col2'])                    # 輸出 DataFrame df1 名稱為 col2 的行\n",
    "print()\n",
    "print(type(df1['col2']) == pd.Series) # df1['col2'] 型態為 Series，輸出 True\n",
    "print(df1['col2'].dtype)              # df1['col2'] 中的數值型態為浮點數，輸出 int64\n",
    "print(df1['col2'].shape)              # df1['col2'] 維度為 1，共 4 個數值，輸出 (4,)\n",
    "print()\n",
    "\n",
    "print(df1['col3'])                    # 輸出 DataFrame df1 名稱為 col3 的行\n",
    "print()\n",
    "print(type(df1['col3']) == pd.Series) # df1['col3'] 型態為 Series，輸出 True\n",
    "print(df1['col3'].dtype)              # df1['col3'] 中的數值型態為字串，輸出 object\n",
    "print(df1['col3'].shape)              # df1['col3'] 維度為 1，共 4 個數值，輸出 (4,)"
   ]
  },
  {
   "cell_type": "code",
   "execution_count": 5,
   "metadata": {},
   "outputs": [
    {
     "output_type": "stream",
     "name": "stdout",
     "text": "col1  col2 col3\nrow1     1   5.0    a\nrow2     2   6.0    b\nrow3     3   7.0    c\nrow4     4   8.0    d\n\ncol1    1\ncol2    5\ncol3    a\nName: row1, dtype: object\n\ncol1    1\ncol2    5\ncol3    a\nName: row1, dtype: object\n\ncol1    2\ncol2    6\ncol3    b\nName: row2, dtype: object\n\ncol1    2\ncol2    6\ncol3    b\nName: row2, dtype: object\n\ncol1    3\ncol2    7\ncol3    c\nName: row3, dtype: object\n\ncol1    3\ncol2    7\ncol3    c\nName: row3, dtype: object\n\n      col1  col2 col3\nrow1     1   5.0    a\nrow2     2   6.0    b\n\n      col1  col2 col3\nrow1     1   5.0    a\nrow2     2   6.0    b\nrow3     3   7.0    c\n"
    }
   ],
   "source": [
    "df2 = pd.DataFrame(           # 宣告 DataFrame 變數\n",
    "    { \n",
    "        'col1': [1, 2, 3, 4],\n",
    "        'col2': [5., 6., 7., 8.],\n",
    "        'col3': ['a', 'b', 'c', 'd']\n",
    "    },\n",
    "    index=['row1', 'row2', 'row3', 'row4']\n",
    ")\n",
    "\n",
    "print(df2)\n",
    "print()\n",
    "\n",
    "print(df2.iloc[0])            # 輸出 DataFrame df2 第 0 列\n",
    "print()\n",
    "print(df2.loc['row1'])        # 輸出 DataFrame df2 名稱為 row1 的列\n",
    "print()\n",
    "print(df2.iloc[1])            # 輸出 DataFrame df2 第 1 列\n",
    "print()\n",
    "print(df2.loc['row2'])        # 輸出 DataFrame df2 名稱為 row2 的列\n",
    "print()\n",
    "print(df2.iloc[2])            # 輸出 DataFrame df2 第 2 列\n",
    "print()\n",
    "print(df2.loc['row3'])        # 輸出 DataFrame df2 名稱為 row3 的列\n",
    "print()\n",
    "\n",
    "print(df2.iloc[0:2])          # 輸出 DataFrame df2 第 0, 1 列\n",
    "print()\n",
    "print(df2.loc['row1':'row3']) # 輸出 DataFrame df2 列的名稱為 row1 的位置\n",
    "                              # 到列的名稱為 row3 的位置的所有列\n",
    "                              # 與 list 不同，包含 row3 的位置"
   ]
  },
  {
   "cell_type": "markdown",
   "metadata": {},
   "source": [
    "## 操作資料\n",
    "\n",
    "### 資料資訊（Data Information）\n",
    "\n",
    "`pandas` 提供簡單的函數能夠快速瀏覽資料的資訊：\n",
    "\n",
    "|函數|意義|\n",
    "|-|-|\n",
    "|`pandas.DataFrame.info`|資料型態與大小|\n",
    "|`pandas.(DataFrame\\|Series).head`|前 n 筆資料|\n",
    "|`pandas.(DataFrame\\|Series).tail`|後 n 筆資料|\n",
    "|`pandas.(DataFrame\\|Series).describe`|統計資訊|\n",
    "|`pandas.(DataFrame\\|Series).hist`|繪出直方圖|\n",
    "\n",
    "### 資料前處理（Data Preprocessing）\n",
    "\n",
    "有時後部份資料會遺失或是有誤（例如型態錯誤），這時就必須要進行資料前處理。\n",
    "\n",
    "在 `pandas` 中不存在或遺失的值以 `None` 表示，若資料欄位為浮點數則改用 `numpy.nan` 表示。\n",
    "\n",
    "|函數|意義|\n",
    "|-|-|\n",
    "|`pandas.(DataFrame\\|Series).isna`|列出不存在或遺失的資料|\n",
    "|`pandas.(DataFrame\\|Series).notna`|列出存在的資料|\n",
    "|`pandas.(DataFrame\\|Series).dropna`|去除不存在或遺失的資料|\n",
    "|`pandas.(DataFrame\\|Series).fillna`|對不存在或遺失的資料覆寫指定數值|\n",
    "\n",
    "處理遺失資料的策略為\n",
    "\n",
    "1. 找到遺失的資料\n",
    "2. 若與該資料相同的數值有某些**簡單**或是**可預測**的值，則以**覆寫**遺失值\n",
    "    - 若資料為**數字**，則可以填入**平均值**或是**中位數**\n",
    "    - 若資料為**類別**，則可以填入**出現次數最多的類別**\n",
    "3. 若無法處理，則**丟棄**資料\n",
    "\n",
    "### 取得資料（Select Data）\n",
    "\n",
    "使用條件運算子對 `pandas.Series` 進行運算，並回傳 `dtype` 為 `bool` 的 `pandas.Series`。\n",
    "\n",
    "可以進一步在使用回傳的 `pandas.Series` 取出 `pandas.DataFrame` 中的符合條件的資料列（row）。\n",
    "\n",
    "### 資料運算（Data Operation）\n",
    "\n",
    "使用 `pandas` 內建的運算功能進行資料運算，基本上與 `numpy.ndarray` 所提供的功能相同。\n",
    "\n",
    "若需要客制化每一筆資料的運算，則使用 `pandas.(DataFrame|Series).apply`。\n",
    "\n",
    "- `axis=0` 為行（column）方向運算，預設為 `axis=0`\n",
    "- `axis=1` 為列（row）方向運算\n",
    "\n",
    "|函數|意義|\n",
    "|-|-|\n",
    "|`pandas.(DataFrame\\|Series).add`|每筆資料進行加法|\n",
    "|`pandas.(DataFrame\\|Series).sub`|每筆資料進行減法|\n",
    "|`pandas.(DataFrame\\|Series).mul`|每筆資料進行乘法|\n",
    "|`pandas.(DataFrame\\|Series).div`|每筆資料進行除法|\n",
    "|`pandas.(DataFrame\\|Series).max`|取出資料中最大值|\n",
    "|`pandas.(DataFrame\\|Series).min`|取出資料中最小值|\n",
    "|`pandas.Series.argmax`|取出資料中最大值的位置|\n",
    "|`pandas.Series.argmin`|取出資料中最小值的位置|\n",
    "|`pandas.Series.idxmax`|取出資料中最大值的名稱|\n",
    "|`pandas.Series.idxmin`|取出資料中最小值的名稱|\n",
    "|`pandas.(DataFrame\\|Series).mean`|計算平均數|\n",
    "|`pandas.(DataFrame\\|Series).var`|計算變異數|\n",
    "|`pandas.(DataFrame\\|Series).std`|計算標準差|\n",
    "|`pandas.(DataFrame\\|Series).sum`|計算總和|"
   ]
  },
  {
   "cell_type": "code",
   "execution_count": 6,
   "metadata": {},
   "outputs": [
    {
     "output_type": "stream",
     "name": "stdout",
     "text": "<class 'pandas.core.frame.DataFrame'>\nRangeIndex: 11 entries, 0 to 10\nData columns (total 2 columns):\n #   Column     Non-Null Count  Dtype  \n---  ------     --------------  -----  \n 0   col-int    11 non-null     int64  \n 1   col-float  11 non-null     float64\ndtypes: float64(1), int64(1)\nmemory usage: 304.0 bytes\nNone\n\n   col-int  col-float\n0        0   0.187434\n1        1   0.662539\n2        2   0.013318\n\n    col-int  col-float\n9         9   0.941558\n10       10   0.636897\n\n         col-int  col-float\ncount  11.000000  11.000000\nmean    5.000000   0.394532\nstd     3.316625   0.311162\nmin     0.000000   0.013318\n25%     2.500000   0.130597\n50%     5.000000   0.456673\n75%     7.500000   0.641388\nmax    10.000000   0.941558\n\n"
    },
    {
     "output_type": "execute_result",
     "data": {
      "text/plain": "array([[<matplotlib.axes._subplots.AxesSubplot object at 0x7f932984f6d8>,\n        <matplotlib.axes._subplots.AxesSubplot object at 0x7f93186a7908>]],\n      dtype=object)"
     },
     "metadata": {},
     "execution_count": 6
    },
    {
     "output_type": "display_data",
     "data": {
      "text/plain": "<Figure size 432x288 with 2 Axes>",
      "image/svg+xml": "<?xml version=\"1.0\" encoding=\"utf-8\" standalone=\"no\"?>\n<!DOCTYPE svg PUBLIC \"-//W3C//DTD SVG 1.1//EN\"\n  \"http://www.w3.org/Graphics/SVG/1.1/DTD/svg11.dtd\">\n<!-- Created with matplotlib (https://matplotlib.org/) -->\n<svg height=\"263.63625pt\" version=\"1.1\" viewBox=\"0 0 372.103125 263.63625\" width=\"372.103125pt\" xmlns=\"http://www.w3.org/2000/svg\" xmlns:xlink=\"http://www.w3.org/1999/xlink\">\n <defs>\n  <style type=\"text/css\">\n*{stroke-linecap:butt;stroke-linejoin:round;}\n  </style>\n </defs>\n <g id=\"figure_1\">\n  <g id=\"patch_1\">\n   <path d=\"M 0 263.63625 \nL 372.103125 263.63625 \nL 372.103125 0 \nL 0 0 \nz\n\" style=\"fill:none;\"/>\n  </g>\n  <g id=\"axes_1\">\n   <g id=\"patch_2\">\n    <path d=\"M 30.103125 239.758125 \nL 175.668342 239.758125 \nL 175.668342 22.318125 \nL 30.103125 22.318125 \nz\n\" style=\"fill:#ffffff;\"/>\n   </g>\n   <g id=\"patch_3\">\n    <path clip-path=\"url(#p8db79fad79)\" d=\"M 36.719726 239.758125 \nL 49.952927 239.758125 \nL 49.952927 32.672411 \nL 36.719726 32.672411 \nz\n\" style=\"fill:#1f77b4;\"/>\n   </g>\n   <g id=\"patch_4\">\n    <path clip-path=\"url(#p8db79fad79)\" d=\"M 49.952927 239.758125 \nL 63.186129 239.758125 \nL 63.186129 170.729554 \nL 49.952927 170.729554 \nz\n\" style=\"fill:#1f77b4;\"/>\n   </g>\n   <g id=\"patch_5\">\n    <path clip-path=\"url(#p8db79fad79)\" d=\"M 63.186129 239.758125 \nL 76.419331 239.758125 \nL 76.419331 170.729554 \nL 63.186129 170.729554 \nz\n\" style=\"fill:#1f77b4;\"/>\n   </g>\n   <g id=\"patch_6\">\n    <path clip-path=\"url(#p8db79fad79)\" d=\"M 76.419331 239.758125 \nL 89.652532 239.758125 \nL 89.652532 239.758125 \nL 76.419331 239.758125 \nz\n\" style=\"fill:#1f77b4;\"/>\n   </g>\n   <g id=\"patch_7\">\n    <path clip-path=\"url(#p8db79fad79)\" d=\"M 89.652532 239.758125 \nL 102.885734 239.758125 \nL 102.885734 170.729554 \nL 89.652532 170.729554 \nz\n\" style=\"fill:#1f77b4;\"/>\n   </g>\n   <g id=\"patch_8\">\n    <path clip-path=\"url(#p8db79fad79)\" d=\"M 102.885734 239.758125 \nL 116.118935 239.758125 \nL 116.118935 170.729554 \nL 102.885734 170.729554 \nz\n\" style=\"fill:#1f77b4;\"/>\n   </g>\n   <g id=\"patch_9\">\n    <path clip-path=\"url(#p8db79fad79)\" d=\"M 116.118935 239.758125 \nL 129.352137 239.758125 \nL 129.352137 32.672411 \nL 116.118935 32.672411 \nz\n\" style=\"fill:#1f77b4;\"/>\n   </g>\n   <g id=\"patch_10\">\n    <path clip-path=\"url(#p8db79fad79)\" d=\"M 129.352137 239.758125 \nL 142.585338 239.758125 \nL 142.585338 239.758125 \nL 129.352137 239.758125 \nz\n\" style=\"fill:#1f77b4;\"/>\n   </g>\n   <g id=\"patch_11\">\n    <path clip-path=\"url(#p8db79fad79)\" d=\"M 142.585338 239.758125 \nL 155.81854 239.758125 \nL 155.81854 239.758125 \nL 142.585338 239.758125 \nz\n\" style=\"fill:#1f77b4;\"/>\n   </g>\n   <g id=\"patch_12\">\n    <path clip-path=\"url(#p8db79fad79)\" d=\"M 155.81854 239.758125 \nL 169.051742 239.758125 \nL 169.051742 170.729554 \nL 155.81854 170.729554 \nz\n\" style=\"fill:#1f77b4;\"/>\n   </g>\n   <g id=\"matplotlib.axis_1\">\n    <g id=\"xtick_1\">\n     <g id=\"line2d_1\">\n      <path clip-path=\"url(#p8db79fad79)\" d=\"M 34.821079 239.758125 \nL 34.821079 22.318125 \n\" style=\"fill:none;stroke:#b0b0b0;stroke-linecap:square;stroke-width:0.8;\"/>\n     </g>\n     <g id=\"line2d_2\">\n      <defs>\n       <path d=\"M 0 0 \nL 0 3.5 \n\" id=\"m073772f22a\" style=\"stroke:#000000;stroke-width:0.8;\"/>\n      </defs>\n      <g>\n       <use style=\"stroke:#000000;stroke-width:0.8;\" x=\"34.821079\" xlink:href=\"#m073772f22a\" y=\"239.758125\"/>\n      </g>\n     </g>\n     <g id=\"text_1\">\n      <!-- 0.0 -->\n      <defs>\n       <path d=\"M 31.78125 66.40625 \nQ 24.171875 66.40625 20.328125 58.90625 \nQ 16.5 51.421875 16.5 36.375 \nQ 16.5 21.390625 20.328125 13.890625 \nQ 24.171875 6.390625 31.78125 6.390625 \nQ 39.453125 6.390625 43.28125 13.890625 \nQ 47.125 21.390625 47.125 36.375 \nQ 47.125 51.421875 43.28125 58.90625 \nQ 39.453125 66.40625 31.78125 66.40625 \nz\nM 31.78125 74.21875 \nQ 44.046875 74.21875 50.515625 64.515625 \nQ 56.984375 54.828125 56.984375 36.375 \nQ 56.984375 17.96875 50.515625 8.265625 \nQ 44.046875 -1.421875 31.78125 -1.421875 \nQ 19.53125 -1.421875 13.0625 8.265625 \nQ 6.59375 17.96875 6.59375 36.375 \nQ 6.59375 54.828125 13.0625 64.515625 \nQ 19.53125 74.21875 31.78125 74.21875 \nz\n\" id=\"DejaVuSans-48\"/>\n       <path d=\"M 10.6875 12.40625 \nL 21 12.40625 \nL 21 0 \nL 10.6875 0 \nz\n\" id=\"DejaVuSans-46\"/>\n      </defs>\n      <g transform=\"translate(26.869517 254.356563)scale(0.1 -0.1)\">\n       <use xlink:href=\"#DejaVuSans-48\"/>\n       <use x=\"63.623047\" xlink:href=\"#DejaVuSans-46\"/>\n       <use x=\"95.410156\" xlink:href=\"#DejaVuSans-48\"/>\n      </g>\n     </g>\n    </g>\n    <g id=\"xtick_2\">\n     <g id=\"line2d_3\">\n      <path clip-path=\"url(#p8db79fad79)\" d=\"M 106.102202 239.758125 \nL 106.102202 22.318125 \n\" style=\"fill:none;stroke:#b0b0b0;stroke-linecap:square;stroke-width:0.8;\"/>\n     </g>\n     <g id=\"line2d_4\">\n      <g>\n       <use style=\"stroke:#000000;stroke-width:0.8;\" x=\"106.102202\" xlink:href=\"#m073772f22a\" y=\"239.758125\"/>\n      </g>\n     </g>\n     <g id=\"text_2\">\n      <!-- 0.5 -->\n      <defs>\n       <path d=\"M 10.796875 72.90625 \nL 49.515625 72.90625 \nL 49.515625 64.59375 \nL 19.828125 64.59375 \nL 19.828125 46.734375 \nQ 21.96875 47.46875 24.109375 47.828125 \nQ 26.265625 48.1875 28.421875 48.1875 \nQ 40.625 48.1875 47.75 41.5 \nQ 54.890625 34.8125 54.890625 23.390625 \nQ 54.890625 11.625 47.5625 5.09375 \nQ 40.234375 -1.421875 26.90625 -1.421875 \nQ 22.3125 -1.421875 17.546875 -0.640625 \nQ 12.796875 0.140625 7.71875 1.703125 \nL 7.71875 11.625 \nQ 12.109375 9.234375 16.796875 8.0625 \nQ 21.484375 6.890625 26.703125 6.890625 \nQ 35.15625 6.890625 40.078125 11.328125 \nQ 45.015625 15.765625 45.015625 23.390625 \nQ 45.015625 31 40.078125 35.4375 \nQ 35.15625 39.890625 26.703125 39.890625 \nQ 22.75 39.890625 18.8125 39.015625 \nQ 14.890625 38.140625 10.796875 36.28125 \nz\n\" id=\"DejaVuSans-53\"/>\n      </defs>\n      <g transform=\"translate(98.15064 254.356563)scale(0.1 -0.1)\">\n       <use xlink:href=\"#DejaVuSans-48\"/>\n       <use x=\"63.623047\" xlink:href=\"#DejaVuSans-46\"/>\n       <use x=\"95.410156\" xlink:href=\"#DejaVuSans-53\"/>\n      </g>\n     </g>\n    </g>\n   </g>\n   <g id=\"matplotlib.axis_2\">\n    <g id=\"ytick_1\">\n     <g id=\"line2d_5\">\n      <path clip-path=\"url(#p8db79fad79)\" d=\"M 30.103125 239.758125 \nL 175.668342 239.758125 \n\" style=\"fill:none;stroke:#b0b0b0;stroke-linecap:square;stroke-width:0.8;\"/>\n     </g>\n     <g id=\"line2d_6\">\n      <defs>\n       <path d=\"M 0 0 \nL -3.5 0 \n\" id=\"mf6d718be19\" style=\"stroke:#000000;stroke-width:0.8;\"/>\n      </defs>\n      <g>\n       <use style=\"stroke:#000000;stroke-width:0.8;\" x=\"30.103125\" xlink:href=\"#mf6d718be19\" y=\"239.758125\"/>\n      </g>\n     </g>\n     <g id=\"text_3\">\n      <!-- 0.0 -->\n      <g transform=\"translate(7.2 243.557344)scale(0.1 -0.1)\">\n       <use xlink:href=\"#DejaVuSans-48\"/>\n       <use x=\"63.623047\" xlink:href=\"#DejaVuSans-46\"/>\n       <use x=\"95.410156\" xlink:href=\"#DejaVuSans-48\"/>\n      </g>\n     </g>\n    </g>\n    <g id=\"ytick_2\">\n     <g id=\"line2d_7\">\n      <path clip-path=\"url(#p8db79fad79)\" d=\"M 30.103125 205.243839 \nL 175.668342 205.243839 \n\" style=\"fill:none;stroke:#b0b0b0;stroke-linecap:square;stroke-width:0.8;\"/>\n     </g>\n     <g id=\"line2d_8\">\n      <g>\n       <use style=\"stroke:#000000;stroke-width:0.8;\" x=\"30.103125\" xlink:href=\"#mf6d718be19\" y=\"205.243839\"/>\n      </g>\n     </g>\n     <g id=\"text_4\">\n      <!-- 0.5 -->\n      <g transform=\"translate(7.2 209.043058)scale(0.1 -0.1)\">\n       <use xlink:href=\"#DejaVuSans-48\"/>\n       <use x=\"63.623047\" xlink:href=\"#DejaVuSans-46\"/>\n       <use x=\"95.410156\" xlink:href=\"#DejaVuSans-53\"/>\n      </g>\n     </g>\n    </g>\n    <g id=\"ytick_3\">\n     <g id=\"line2d_9\">\n      <path clip-path=\"url(#p8db79fad79)\" d=\"M 30.103125 170.729554 \nL 175.668342 170.729554 \n\" style=\"fill:none;stroke:#b0b0b0;stroke-linecap:square;stroke-width:0.8;\"/>\n     </g>\n     <g id=\"line2d_10\">\n      <g>\n       <use style=\"stroke:#000000;stroke-width:0.8;\" x=\"30.103125\" xlink:href=\"#mf6d718be19\" y=\"170.729554\"/>\n      </g>\n     </g>\n     <g id=\"text_5\">\n      <!-- 1.0 -->\n      <defs>\n       <path d=\"M 12.40625 8.296875 \nL 28.515625 8.296875 \nL 28.515625 63.921875 \nL 10.984375 60.40625 \nL 10.984375 69.390625 \nL 28.421875 72.90625 \nL 38.28125 72.90625 \nL 38.28125 8.296875 \nL 54.390625 8.296875 \nL 54.390625 0 \nL 12.40625 0 \nz\n\" id=\"DejaVuSans-49\"/>\n      </defs>\n      <g transform=\"translate(7.2 174.528772)scale(0.1 -0.1)\">\n       <use xlink:href=\"#DejaVuSans-49\"/>\n       <use x=\"63.623047\" xlink:href=\"#DejaVuSans-46\"/>\n       <use x=\"95.410156\" xlink:href=\"#DejaVuSans-48\"/>\n      </g>\n     </g>\n    </g>\n    <g id=\"ytick_4\">\n     <g id=\"line2d_11\">\n      <path clip-path=\"url(#p8db79fad79)\" d=\"M 30.103125 136.215268 \nL 175.668342 136.215268 \n\" style=\"fill:none;stroke:#b0b0b0;stroke-linecap:square;stroke-width:0.8;\"/>\n     </g>\n     <g id=\"line2d_12\">\n      <g>\n       <use style=\"stroke:#000000;stroke-width:0.8;\" x=\"30.103125\" xlink:href=\"#mf6d718be19\" y=\"136.215268\"/>\n      </g>\n     </g>\n     <g id=\"text_6\">\n      <!-- 1.5 -->\n      <g transform=\"translate(7.2 140.014487)scale(0.1 -0.1)\">\n       <use xlink:href=\"#DejaVuSans-49\"/>\n       <use x=\"63.623047\" xlink:href=\"#DejaVuSans-46\"/>\n       <use x=\"95.410156\" xlink:href=\"#DejaVuSans-53\"/>\n      </g>\n     </g>\n    </g>\n    <g id=\"ytick_5\">\n     <g id=\"line2d_13\">\n      <path clip-path=\"url(#p8db79fad79)\" d=\"M 30.103125 101.700982 \nL 175.668342 101.700982 \n\" style=\"fill:none;stroke:#b0b0b0;stroke-linecap:square;stroke-width:0.8;\"/>\n     </g>\n     <g id=\"line2d_14\">\n      <g>\n       <use style=\"stroke:#000000;stroke-width:0.8;\" x=\"30.103125\" xlink:href=\"#mf6d718be19\" y=\"101.700982\"/>\n      </g>\n     </g>\n     <g id=\"text_7\">\n      <!-- 2.0 -->\n      <defs>\n       <path d=\"M 19.1875 8.296875 \nL 53.609375 8.296875 \nL 53.609375 0 \nL 7.328125 0 \nL 7.328125 8.296875 \nQ 12.9375 14.109375 22.625 23.890625 \nQ 32.328125 33.6875 34.8125 36.53125 \nQ 39.546875 41.84375 41.421875 45.53125 \nQ 43.3125 49.21875 43.3125 52.78125 \nQ 43.3125 58.59375 39.234375 62.25 \nQ 35.15625 65.921875 28.609375 65.921875 \nQ 23.96875 65.921875 18.8125 64.3125 \nQ 13.671875 62.703125 7.8125 59.421875 \nL 7.8125 69.390625 \nQ 13.765625 71.78125 18.9375 73 \nQ 24.125 74.21875 28.421875 74.21875 \nQ 39.75 74.21875 46.484375 68.546875 \nQ 53.21875 62.890625 53.21875 53.421875 \nQ 53.21875 48.921875 51.53125 44.890625 \nQ 49.859375 40.875 45.40625 35.40625 \nQ 44.1875 33.984375 37.640625 27.21875 \nQ 31.109375 20.453125 19.1875 8.296875 \nz\n\" id=\"DejaVuSans-50\"/>\n      </defs>\n      <g transform=\"translate(7.2 105.500201)scale(0.1 -0.1)\">\n       <use xlink:href=\"#DejaVuSans-50\"/>\n       <use x=\"63.623047\" xlink:href=\"#DejaVuSans-46\"/>\n       <use x=\"95.410156\" xlink:href=\"#DejaVuSans-48\"/>\n      </g>\n     </g>\n    </g>\n    <g id=\"ytick_6\">\n     <g id=\"line2d_15\">\n      <path clip-path=\"url(#p8db79fad79)\" d=\"M 30.103125 67.186696 \nL 175.668342 67.186696 \n\" style=\"fill:none;stroke:#b0b0b0;stroke-linecap:square;stroke-width:0.8;\"/>\n     </g>\n     <g id=\"line2d_16\">\n      <g>\n       <use style=\"stroke:#000000;stroke-width:0.8;\" x=\"30.103125\" xlink:href=\"#mf6d718be19\" y=\"67.186696\"/>\n      </g>\n     </g>\n     <g id=\"text_8\">\n      <!-- 2.5 -->\n      <g transform=\"translate(7.2 70.985915)scale(0.1 -0.1)\">\n       <use xlink:href=\"#DejaVuSans-50\"/>\n       <use x=\"63.623047\" xlink:href=\"#DejaVuSans-46\"/>\n       <use x=\"95.410156\" xlink:href=\"#DejaVuSans-53\"/>\n      </g>\n     </g>\n    </g>\n    <g id=\"ytick_7\">\n     <g id=\"line2d_17\">\n      <path clip-path=\"url(#p8db79fad79)\" d=\"M 30.103125 32.672411 \nL 175.668342 32.672411 \n\" style=\"fill:none;stroke:#b0b0b0;stroke-linecap:square;stroke-width:0.8;\"/>\n     </g>\n     <g id=\"line2d_18\">\n      <g>\n       <use style=\"stroke:#000000;stroke-width:0.8;\" x=\"30.103125\" xlink:href=\"#mf6d718be19\" y=\"32.672411\"/>\n      </g>\n     </g>\n     <g id=\"text_9\">\n      <!-- 3.0 -->\n      <defs>\n       <path d=\"M 40.578125 39.3125 \nQ 47.65625 37.796875 51.625 33 \nQ 55.609375 28.21875 55.609375 21.1875 \nQ 55.609375 10.40625 48.1875 4.484375 \nQ 40.765625 -1.421875 27.09375 -1.421875 \nQ 22.515625 -1.421875 17.65625 -0.515625 \nQ 12.796875 0.390625 7.625 2.203125 \nL 7.625 11.71875 \nQ 11.71875 9.328125 16.59375 8.109375 \nQ 21.484375 6.890625 26.8125 6.890625 \nQ 36.078125 6.890625 40.9375 10.546875 \nQ 45.796875 14.203125 45.796875 21.1875 \nQ 45.796875 27.640625 41.28125 31.265625 \nQ 36.765625 34.90625 28.71875 34.90625 \nL 20.21875 34.90625 \nL 20.21875 43.015625 \nL 29.109375 43.015625 \nQ 36.375 43.015625 40.234375 45.921875 \nQ 44.09375 48.828125 44.09375 54.296875 \nQ 44.09375 59.90625 40.109375 62.90625 \nQ 36.140625 65.921875 28.71875 65.921875 \nQ 24.65625 65.921875 20.015625 65.03125 \nQ 15.375 64.15625 9.8125 62.3125 \nL 9.8125 71.09375 \nQ 15.4375 72.65625 20.34375 73.4375 \nQ 25.25 74.21875 29.59375 74.21875 \nQ 40.828125 74.21875 47.359375 69.109375 \nQ 53.90625 64.015625 53.90625 55.328125 \nQ 53.90625 49.265625 50.4375 45.09375 \nQ 46.96875 40.921875 40.578125 39.3125 \nz\n\" id=\"DejaVuSans-51\"/>\n      </defs>\n      <g transform=\"translate(7.2 36.471629)scale(0.1 -0.1)\">\n       <use xlink:href=\"#DejaVuSans-51\"/>\n       <use x=\"63.623047\" xlink:href=\"#DejaVuSans-46\"/>\n       <use x=\"95.410156\" xlink:href=\"#DejaVuSans-48\"/>\n      </g>\n     </g>\n    </g>\n   </g>\n   <g id=\"patch_13\">\n    <path d=\"M 30.103125 239.758125 \nL 30.103125 22.318125 \n\" style=\"fill:none;stroke:#000000;stroke-linecap:square;stroke-linejoin:miter;stroke-width:0.8;\"/>\n   </g>\n   <g id=\"patch_14\">\n    <path d=\"M 175.668342 239.758125 \nL 175.668342 22.318125 \n\" style=\"fill:none;stroke:#000000;stroke-linecap:square;stroke-linejoin:miter;stroke-width:0.8;\"/>\n   </g>\n   <g id=\"patch_15\">\n    <path d=\"M 30.103125 239.758125 \nL 175.668342 239.758125 \n\" style=\"fill:none;stroke:#000000;stroke-linecap:square;stroke-linejoin:miter;stroke-width:0.8;\"/>\n   </g>\n   <g id=\"patch_16\">\n    <path d=\"M 30.103125 22.318125 \nL 175.668342 22.318125 \n\" style=\"fill:none;stroke:#000000;stroke-linecap:square;stroke-linejoin:miter;stroke-width:0.8;\"/>\n   </g>\n   <g id=\"text_10\">\n    <!-- col-float -->\n    <defs>\n     <path d=\"M 48.78125 52.59375 \nL 48.78125 44.1875 \nQ 44.96875 46.296875 41.140625 47.34375 \nQ 37.3125 48.390625 33.40625 48.390625 \nQ 24.65625 48.390625 19.8125 42.84375 \nQ 14.984375 37.3125 14.984375 27.296875 \nQ 14.984375 17.28125 19.8125 11.734375 \nQ 24.65625 6.203125 33.40625 6.203125 \nQ 37.3125 6.203125 41.140625 7.25 \nQ 44.96875 8.296875 48.78125 10.40625 \nL 48.78125 2.09375 \nQ 45.015625 0.34375 40.984375 -0.53125 \nQ 36.96875 -1.421875 32.421875 -1.421875 \nQ 20.0625 -1.421875 12.78125 6.34375 \nQ 5.515625 14.109375 5.515625 27.296875 \nQ 5.515625 40.671875 12.859375 48.328125 \nQ 20.21875 56 33.015625 56 \nQ 37.15625 56 41.109375 55.140625 \nQ 45.0625 54.296875 48.78125 52.59375 \nz\n\" id=\"DejaVuSans-99\"/>\n     <path d=\"M 30.609375 48.390625 \nQ 23.390625 48.390625 19.1875 42.75 \nQ 14.984375 37.109375 14.984375 27.296875 \nQ 14.984375 17.484375 19.15625 11.84375 \nQ 23.34375 6.203125 30.609375 6.203125 \nQ 37.796875 6.203125 41.984375 11.859375 \nQ 46.1875 17.53125 46.1875 27.296875 \nQ 46.1875 37.015625 41.984375 42.703125 \nQ 37.796875 48.390625 30.609375 48.390625 \nz\nM 30.609375 56 \nQ 42.328125 56 49.015625 48.375 \nQ 55.71875 40.765625 55.71875 27.296875 \nQ 55.71875 13.875 49.015625 6.21875 \nQ 42.328125 -1.421875 30.609375 -1.421875 \nQ 18.84375 -1.421875 12.171875 6.21875 \nQ 5.515625 13.875 5.515625 27.296875 \nQ 5.515625 40.765625 12.171875 48.375 \nQ 18.84375 56 30.609375 56 \nz\n\" id=\"DejaVuSans-111\"/>\n     <path d=\"M 9.421875 75.984375 \nL 18.40625 75.984375 \nL 18.40625 0 \nL 9.421875 0 \nz\n\" id=\"DejaVuSans-108\"/>\n     <path d=\"M 4.890625 31.390625 \nL 31.203125 31.390625 \nL 31.203125 23.390625 \nL 4.890625 23.390625 \nz\n\" id=\"DejaVuSans-45\"/>\n     <path d=\"M 37.109375 75.984375 \nL 37.109375 68.5 \nL 28.515625 68.5 \nQ 23.6875 68.5 21.796875 66.546875 \nQ 19.921875 64.59375 19.921875 59.515625 \nL 19.921875 54.6875 \nL 34.71875 54.6875 \nL 34.71875 47.703125 \nL 19.921875 47.703125 \nL 19.921875 0 \nL 10.890625 0 \nL 10.890625 47.703125 \nL 2.296875 47.703125 \nL 2.296875 54.6875 \nL 10.890625 54.6875 \nL 10.890625 58.5 \nQ 10.890625 67.625 15.140625 71.796875 \nQ 19.390625 75.984375 28.609375 75.984375 \nz\n\" id=\"DejaVuSans-102\"/>\n     <path d=\"M 34.28125 27.484375 \nQ 23.390625 27.484375 19.1875 25 \nQ 14.984375 22.515625 14.984375 16.5 \nQ 14.984375 11.71875 18.140625 8.90625 \nQ 21.296875 6.109375 26.703125 6.109375 \nQ 34.1875 6.109375 38.703125 11.40625 \nQ 43.21875 16.703125 43.21875 25.484375 \nL 43.21875 27.484375 \nz\nM 52.203125 31.203125 \nL 52.203125 0 \nL 43.21875 0 \nL 43.21875 8.296875 \nQ 40.140625 3.328125 35.546875 0.953125 \nQ 30.953125 -1.421875 24.3125 -1.421875 \nQ 15.921875 -1.421875 10.953125 3.296875 \nQ 6 8.015625 6 15.921875 \nQ 6 25.140625 12.171875 29.828125 \nQ 18.359375 34.515625 30.609375 34.515625 \nL 43.21875 34.515625 \nL 43.21875 35.40625 \nQ 43.21875 41.609375 39.140625 45 \nQ 35.0625 48.390625 27.6875 48.390625 \nQ 23 48.390625 18.546875 47.265625 \nQ 14.109375 46.140625 10.015625 43.890625 \nL 10.015625 52.203125 \nQ 14.9375 54.109375 19.578125 55.046875 \nQ 24.21875 56 28.609375 56 \nQ 40.484375 56 46.34375 49.84375 \nQ 52.203125 43.703125 52.203125 31.203125 \nz\n\" id=\"DejaVuSans-97\"/>\n     <path d=\"M 18.3125 70.21875 \nL 18.3125 54.6875 \nL 36.8125 54.6875 \nL 36.8125 47.703125 \nL 18.3125 47.703125 \nL 18.3125 18.015625 \nQ 18.3125 11.328125 20.140625 9.421875 \nQ 21.96875 7.515625 27.59375 7.515625 \nL 36.8125 7.515625 \nL 36.8125 0 \nL 27.59375 0 \nQ 17.1875 0 13.234375 3.875 \nQ 9.28125 7.765625 9.28125 18.015625 \nL 9.28125 47.703125 \nL 2.6875 47.703125 \nL 2.6875 54.6875 \nL 9.28125 54.6875 \nL 9.28125 70.21875 \nz\n\" id=\"DejaVuSans-116\"/>\n    </defs>\n    <g transform=\"translate(78.604484 16.318125)scale(0.12 -0.12)\">\n     <use xlink:href=\"#DejaVuSans-99\"/>\n     <use x=\"54.980469\" xlink:href=\"#DejaVuSans-111\"/>\n     <use x=\"116.162109\" xlink:href=\"#DejaVuSans-108\"/>\n     <use x=\"143.945312\" xlink:href=\"#DejaVuSans-45\"/>\n     <use x=\"180.029297\" xlink:href=\"#DejaVuSans-102\"/>\n     <use x=\"215.234375\" xlink:href=\"#DejaVuSans-108\"/>\n     <use x=\"243.017578\" xlink:href=\"#DejaVuSans-111\"/>\n     <use x=\"304.199219\" xlink:href=\"#DejaVuSans-97\"/>\n     <use x=\"365.478516\" xlink:href=\"#DejaVuSans-116\"/>\n    </g>\n   </g>\n  </g>\n  <g id=\"axes_2\">\n   <g id=\"patch_17\">\n    <path d=\"M 219.337908 239.758125 \nL 364.903125 239.758125 \nL 364.903125 22.318125 \nL 219.337908 22.318125 \nz\n\" style=\"fill:#ffffff;\"/>\n   </g>\n   <g id=\"patch_18\">\n    <path clip-path=\"url(#pc2543abec4)\" d=\"M 225.954508 239.758125 \nL 239.18771 239.758125 \nL 239.18771 136.215268 \nL 225.954508 136.215268 \nz\n\" style=\"fill:#1f77b4;\"/>\n   </g>\n   <g id=\"patch_19\">\n    <path clip-path=\"url(#pc2543abec4)\" d=\"M 239.18771 239.758125 \nL 252.420912 239.758125 \nL 252.420912 136.215268 \nL 239.18771 136.215268 \nz\n\" style=\"fill:#1f77b4;\"/>\n   </g>\n   <g id=\"patch_20\">\n    <path clip-path=\"url(#pc2543abec4)\" d=\"M 252.420912 239.758125 \nL 265.654113 239.758125 \nL 265.654113 136.215268 \nL 252.420912 136.215268 \nz\n\" style=\"fill:#1f77b4;\"/>\n   </g>\n   <g id=\"patch_21\">\n    <path clip-path=\"url(#pc2543abec4)\" d=\"M 265.654113 239.758125 \nL 278.887315 239.758125 \nL 278.887315 136.215268 \nL 265.654113 136.215268 \nz\n\" style=\"fill:#1f77b4;\"/>\n   </g>\n   <g id=\"patch_22\">\n    <path clip-path=\"url(#pc2543abec4)\" d=\"M 278.887315 239.758125 \nL 292.120516 239.758125 \nL 292.120516 136.215268 \nL 278.887315 136.215268 \nz\n\" style=\"fill:#1f77b4;\"/>\n   </g>\n   <g id=\"patch_23\">\n    <path clip-path=\"url(#pc2543abec4)\" d=\"M 292.120516 239.758125 \nL 305.353718 239.758125 \nL 305.353718 136.215268 \nL 292.120516 136.215268 \nz\n\" style=\"fill:#1f77b4;\"/>\n   </g>\n   <g id=\"patch_24\">\n    <path clip-path=\"url(#pc2543abec4)\" d=\"M 305.353718 239.758125 \nL 318.586919 239.758125 \nL 318.586919 136.215268 \nL 305.353718 136.215268 \nz\n\" style=\"fill:#1f77b4;\"/>\n   </g>\n   <g id=\"patch_25\">\n    <path clip-path=\"url(#pc2543abec4)\" d=\"M 318.586919 239.758125 \nL 331.820121 239.758125 \nL 331.820121 136.215268 \nL 318.586919 136.215268 \nz\n\" style=\"fill:#1f77b4;\"/>\n   </g>\n   <g id=\"patch_26\">\n    <path clip-path=\"url(#pc2543abec4)\" d=\"M 331.820121 239.758125 \nL 345.053323 239.758125 \nL 345.053323 136.215268 \nL 331.820121 136.215268 \nz\n\" style=\"fill:#1f77b4;\"/>\n   </g>\n   <g id=\"patch_27\">\n    <path clip-path=\"url(#pc2543abec4)\" d=\"M 345.053323 239.758125 \nL 358.286524 239.758125 \nL 358.286524 32.672411 \nL 345.053323 32.672411 \nz\n\" style=\"fill:#1f77b4;\"/>\n   </g>\n   <g id=\"matplotlib.axis_3\">\n    <g id=\"xtick_3\">\n     <g id=\"line2d_19\">\n      <path clip-path=\"url(#pc2543abec4)\" d=\"M 225.954508 239.758125 \nL 225.954508 22.318125 \n\" style=\"fill:none;stroke:#b0b0b0;stroke-linecap:square;stroke-width:0.8;\"/>\n     </g>\n     <g id=\"line2d_20\">\n      <g>\n       <use style=\"stroke:#000000;stroke-width:0.8;\" x=\"225.954508\" xlink:href=\"#m073772f22a\" y=\"239.758125\"/>\n      </g>\n     </g>\n     <g id=\"text_11\">\n      <!-- 0 -->\n      <g transform=\"translate(222.773258 254.356563)scale(0.1 -0.1)\">\n       <use xlink:href=\"#DejaVuSans-48\"/>\n      </g>\n     </g>\n    </g>\n    <g id=\"xtick_4\">\n     <g id=\"line2d_21\">\n      <path clip-path=\"url(#pc2543abec4)\" d=\"M 292.120516 239.758125 \nL 292.120516 22.318125 \n\" style=\"fill:none;stroke:#b0b0b0;stroke-linecap:square;stroke-width:0.8;\"/>\n     </g>\n     <g id=\"line2d_22\">\n      <g>\n       <use style=\"stroke:#000000;stroke-width:0.8;\" x=\"292.120516\" xlink:href=\"#m073772f22a\" y=\"239.758125\"/>\n      </g>\n     </g>\n     <g id=\"text_12\">\n      <!-- 5 -->\n      <g transform=\"translate(288.939266 254.356563)scale(0.1 -0.1)\">\n       <use xlink:href=\"#DejaVuSans-53\"/>\n      </g>\n     </g>\n    </g>\n    <g id=\"xtick_5\">\n     <g id=\"line2d_23\">\n      <path clip-path=\"url(#pc2543abec4)\" d=\"M 358.286524 239.758125 \nL 358.286524 22.318125 \n\" style=\"fill:none;stroke:#b0b0b0;stroke-linecap:square;stroke-width:0.8;\"/>\n     </g>\n     <g id=\"line2d_24\">\n      <g>\n       <use style=\"stroke:#000000;stroke-width:0.8;\" x=\"358.286524\" xlink:href=\"#m073772f22a\" y=\"239.758125\"/>\n      </g>\n     </g>\n     <g id=\"text_13\">\n      <!-- 10 -->\n      <g transform=\"translate(351.924024 254.356563)scale(0.1 -0.1)\">\n       <use xlink:href=\"#DejaVuSans-49\"/>\n       <use x=\"63.623047\" xlink:href=\"#DejaVuSans-48\"/>\n      </g>\n     </g>\n    </g>\n   </g>\n   <g id=\"matplotlib.axis_4\">\n    <g id=\"ytick_8\">\n     <g id=\"line2d_25\">\n      <path clip-path=\"url(#pc2543abec4)\" d=\"M 219.337908 239.758125 \nL 364.903125 239.758125 \n\" style=\"fill:none;stroke:#b0b0b0;stroke-linecap:square;stroke-width:0.8;\"/>\n     </g>\n     <g id=\"line2d_26\">\n      <g>\n       <use style=\"stroke:#000000;stroke-width:0.8;\" x=\"219.337908\" xlink:href=\"#mf6d718be19\" y=\"239.758125\"/>\n      </g>\n     </g>\n     <g id=\"text_14\">\n      <!-- 0.00 -->\n      <g transform=\"translate(190.072283 243.557344)scale(0.1 -0.1)\">\n       <use xlink:href=\"#DejaVuSans-48\"/>\n       <use x=\"63.623047\" xlink:href=\"#DejaVuSans-46\"/>\n       <use x=\"95.410156\" xlink:href=\"#DejaVuSans-48\"/>\n       <use x=\"159.033203\" xlink:href=\"#DejaVuSans-48\"/>\n      </g>\n     </g>\n    </g>\n    <g id=\"ytick_9\">\n     <g id=\"line2d_27\">\n      <path clip-path=\"url(#pc2543abec4)\" d=\"M 219.337908 213.872411 \nL 364.903125 213.872411 \n\" style=\"fill:none;stroke:#b0b0b0;stroke-linecap:square;stroke-width:0.8;\"/>\n     </g>\n     <g id=\"line2d_28\">\n      <g>\n       <use style=\"stroke:#000000;stroke-width:0.8;\" x=\"219.337908\" xlink:href=\"#mf6d718be19\" y=\"213.872411\"/>\n      </g>\n     </g>\n     <g id=\"text_15\">\n      <!-- 0.25 -->\n      <g transform=\"translate(190.072283 217.671629)scale(0.1 -0.1)\">\n       <use xlink:href=\"#DejaVuSans-48\"/>\n       <use x=\"63.623047\" xlink:href=\"#DejaVuSans-46\"/>\n       <use x=\"95.410156\" xlink:href=\"#DejaVuSans-50\"/>\n       <use x=\"159.033203\" xlink:href=\"#DejaVuSans-53\"/>\n      </g>\n     </g>\n    </g>\n    <g id=\"ytick_10\">\n     <g id=\"line2d_29\">\n      <path clip-path=\"url(#pc2543abec4)\" d=\"M 219.337908 187.986696 \nL 364.903125 187.986696 \n\" style=\"fill:none;stroke:#b0b0b0;stroke-linecap:square;stroke-width:0.8;\"/>\n     </g>\n     <g id=\"line2d_30\">\n      <g>\n       <use style=\"stroke:#000000;stroke-width:0.8;\" x=\"219.337908\" xlink:href=\"#mf6d718be19\" y=\"187.986696\"/>\n      </g>\n     </g>\n     <g id=\"text_16\">\n      <!-- 0.50 -->\n      <g transform=\"translate(190.072283 191.785915)scale(0.1 -0.1)\">\n       <use xlink:href=\"#DejaVuSans-48\"/>\n       <use x=\"63.623047\" xlink:href=\"#DejaVuSans-46\"/>\n       <use x=\"95.410156\" xlink:href=\"#DejaVuSans-53\"/>\n       <use x=\"159.033203\" xlink:href=\"#DejaVuSans-48\"/>\n      </g>\n     </g>\n    </g>\n    <g id=\"ytick_11\">\n     <g id=\"line2d_31\">\n      <path clip-path=\"url(#pc2543abec4)\" d=\"M 219.337908 162.100982 \nL 364.903125 162.100982 \n\" style=\"fill:none;stroke:#b0b0b0;stroke-linecap:square;stroke-width:0.8;\"/>\n     </g>\n     <g id=\"line2d_32\">\n      <g>\n       <use style=\"stroke:#000000;stroke-width:0.8;\" x=\"219.337908\" xlink:href=\"#mf6d718be19\" y=\"162.100982\"/>\n      </g>\n     </g>\n     <g id=\"text_17\">\n      <!-- 0.75 -->\n      <defs>\n       <path d=\"M 8.203125 72.90625 \nL 55.078125 72.90625 \nL 55.078125 68.703125 \nL 28.609375 0 \nL 18.3125 0 \nL 43.21875 64.59375 \nL 8.203125 64.59375 \nz\n\" id=\"DejaVuSans-55\"/>\n      </defs>\n      <g transform=\"translate(190.072283 165.900201)scale(0.1 -0.1)\">\n       <use xlink:href=\"#DejaVuSans-48\"/>\n       <use x=\"63.623047\" xlink:href=\"#DejaVuSans-46\"/>\n       <use x=\"95.410156\" xlink:href=\"#DejaVuSans-55\"/>\n       <use x=\"159.033203\" xlink:href=\"#DejaVuSans-53\"/>\n      </g>\n     </g>\n    </g>\n    <g id=\"ytick_12\">\n     <g id=\"line2d_33\">\n      <path clip-path=\"url(#pc2543abec4)\" d=\"M 219.337908 136.215268 \nL 364.903125 136.215268 \n\" style=\"fill:none;stroke:#b0b0b0;stroke-linecap:square;stroke-width:0.8;\"/>\n     </g>\n     <g id=\"line2d_34\">\n      <g>\n       <use style=\"stroke:#000000;stroke-width:0.8;\" x=\"219.337908\" xlink:href=\"#mf6d718be19\" y=\"136.215268\"/>\n      </g>\n     </g>\n     <g id=\"text_18\">\n      <!-- 1.00 -->\n      <g transform=\"translate(190.072283 140.014487)scale(0.1 -0.1)\">\n       <use xlink:href=\"#DejaVuSans-49\"/>\n       <use x=\"63.623047\" xlink:href=\"#DejaVuSans-46\"/>\n       <use x=\"95.410156\" xlink:href=\"#DejaVuSans-48\"/>\n       <use x=\"159.033203\" xlink:href=\"#DejaVuSans-48\"/>\n      </g>\n     </g>\n    </g>\n    <g id=\"ytick_13\">\n     <g id=\"line2d_35\">\n      <path clip-path=\"url(#pc2543abec4)\" d=\"M 219.337908 110.329554 \nL 364.903125 110.329554 \n\" style=\"fill:none;stroke:#b0b0b0;stroke-linecap:square;stroke-width:0.8;\"/>\n     </g>\n     <g id=\"line2d_36\">\n      <g>\n       <use style=\"stroke:#000000;stroke-width:0.8;\" x=\"219.337908\" xlink:href=\"#mf6d718be19\" y=\"110.329554\"/>\n      </g>\n     </g>\n     <g id=\"text_19\">\n      <!-- 1.25 -->\n      <g transform=\"translate(190.072283 114.128772)scale(0.1 -0.1)\">\n       <use xlink:href=\"#DejaVuSans-49\"/>\n       <use x=\"63.623047\" xlink:href=\"#DejaVuSans-46\"/>\n       <use x=\"95.410156\" xlink:href=\"#DejaVuSans-50\"/>\n       <use x=\"159.033203\" xlink:href=\"#DejaVuSans-53\"/>\n      </g>\n     </g>\n    </g>\n    <g id=\"ytick_14\">\n     <g id=\"line2d_37\">\n      <path clip-path=\"url(#pc2543abec4)\" d=\"M 219.337908 84.443839 \nL 364.903125 84.443839 \n\" style=\"fill:none;stroke:#b0b0b0;stroke-linecap:square;stroke-width:0.8;\"/>\n     </g>\n     <g id=\"line2d_38\">\n      <g>\n       <use style=\"stroke:#000000;stroke-width:0.8;\" x=\"219.337908\" xlink:href=\"#mf6d718be19\" y=\"84.443839\"/>\n      </g>\n     </g>\n     <g id=\"text_20\">\n      <!-- 1.50 -->\n      <g transform=\"translate(190.072283 88.243058)scale(0.1 -0.1)\">\n       <use xlink:href=\"#DejaVuSans-49\"/>\n       <use x=\"63.623047\" xlink:href=\"#DejaVuSans-46\"/>\n       <use x=\"95.410156\" xlink:href=\"#DejaVuSans-53\"/>\n       <use x=\"159.033203\" xlink:href=\"#DejaVuSans-48\"/>\n      </g>\n     </g>\n    </g>\n    <g id=\"ytick_15\">\n     <g id=\"line2d_39\">\n      <path clip-path=\"url(#pc2543abec4)\" d=\"M 219.337908 58.558125 \nL 364.903125 58.558125 \n\" style=\"fill:none;stroke:#b0b0b0;stroke-linecap:square;stroke-width:0.8;\"/>\n     </g>\n     <g id=\"line2d_40\">\n      <g>\n       <use style=\"stroke:#000000;stroke-width:0.8;\" x=\"219.337908\" xlink:href=\"#mf6d718be19\" y=\"58.558125\"/>\n      </g>\n     </g>\n     <g id=\"text_21\">\n      <!-- 1.75 -->\n      <g transform=\"translate(190.072283 62.357344)scale(0.1 -0.1)\">\n       <use xlink:href=\"#DejaVuSans-49\"/>\n       <use x=\"63.623047\" xlink:href=\"#DejaVuSans-46\"/>\n       <use x=\"95.410156\" xlink:href=\"#DejaVuSans-55\"/>\n       <use x=\"159.033203\" xlink:href=\"#DejaVuSans-53\"/>\n      </g>\n     </g>\n    </g>\n    <g id=\"ytick_16\">\n     <g id=\"line2d_41\">\n      <path clip-path=\"url(#pc2543abec4)\" d=\"M 219.337908 32.672411 \nL 364.903125 32.672411 \n\" style=\"fill:none;stroke:#b0b0b0;stroke-linecap:square;stroke-width:0.8;\"/>\n     </g>\n     <g id=\"line2d_42\">\n      <g>\n       <use style=\"stroke:#000000;stroke-width:0.8;\" x=\"219.337908\" xlink:href=\"#mf6d718be19\" y=\"32.672411\"/>\n      </g>\n     </g>\n     <g id=\"text_22\">\n      <!-- 2.00 -->\n      <g transform=\"translate(190.072283 36.471629)scale(0.1 -0.1)\">\n       <use xlink:href=\"#DejaVuSans-50\"/>\n       <use x=\"63.623047\" xlink:href=\"#DejaVuSans-46\"/>\n       <use x=\"95.410156\" xlink:href=\"#DejaVuSans-48\"/>\n       <use x=\"159.033203\" xlink:href=\"#DejaVuSans-48\"/>\n      </g>\n     </g>\n    </g>\n   </g>\n   <g id=\"patch_28\">\n    <path d=\"M 219.337908 239.758125 \nL 219.337908 22.318125 \n\" style=\"fill:none;stroke:#000000;stroke-linecap:square;stroke-linejoin:miter;stroke-width:0.8;\"/>\n   </g>\n   <g id=\"patch_29\">\n    <path d=\"M 364.903125 239.758125 \nL 364.903125 22.318125 \n\" style=\"fill:none;stroke:#000000;stroke-linecap:square;stroke-linejoin:miter;stroke-width:0.8;\"/>\n   </g>\n   <g id=\"patch_30\">\n    <path d=\"M 219.337908 239.758125 \nL 364.903125 239.758125 \n\" style=\"fill:none;stroke:#000000;stroke-linecap:square;stroke-linejoin:miter;stroke-width:0.8;\"/>\n   </g>\n   <g id=\"patch_31\">\n    <path d=\"M 219.337908 22.318125 \nL 364.903125 22.318125 \n\" style=\"fill:none;stroke:#000000;stroke-linecap:square;stroke-linejoin:miter;stroke-width:0.8;\"/>\n   </g>\n   <g id=\"text_23\">\n    <!-- col-int -->\n    <defs>\n     <path d=\"M 9.421875 54.6875 \nL 18.40625 54.6875 \nL 18.40625 0 \nL 9.421875 0 \nz\nM 9.421875 75.984375 \nL 18.40625 75.984375 \nL 18.40625 64.59375 \nL 9.421875 64.59375 \nz\n\" id=\"DejaVuSans-105\"/>\n     <path d=\"M 54.890625 33.015625 \nL 54.890625 0 \nL 45.90625 0 \nL 45.90625 32.71875 \nQ 45.90625 40.484375 42.875 44.328125 \nQ 39.84375 48.1875 33.796875 48.1875 \nQ 26.515625 48.1875 22.3125 43.546875 \nQ 18.109375 38.921875 18.109375 30.90625 \nL 18.109375 0 \nL 9.078125 0 \nL 9.078125 54.6875 \nL 18.109375 54.6875 \nL 18.109375 46.1875 \nQ 21.34375 51.125 25.703125 53.5625 \nQ 30.078125 56 35.796875 56 \nQ 45.21875 56 50.046875 50.171875 \nQ 54.890625 44.34375 54.890625 33.015625 \nz\n\" id=\"DejaVuSans-110\"/>\n    </defs>\n    <g transform=\"translate(273.497079 16.318125)scale(0.12 -0.12)\">\n     <use xlink:href=\"#DejaVuSans-99\"/>\n     <use x=\"54.980469\" xlink:href=\"#DejaVuSans-111\"/>\n     <use x=\"116.162109\" xlink:href=\"#DejaVuSans-108\"/>\n     <use x=\"143.945312\" xlink:href=\"#DejaVuSans-45\"/>\n     <use x=\"180.029297\" xlink:href=\"#DejaVuSans-105\"/>\n     <use x=\"207.8125\" xlink:href=\"#DejaVuSans-110\"/>\n     <use x=\"271.191406\" xlink:href=\"#DejaVuSans-116\"/>\n    </g>\n   </g>\n  </g>\n </g>\n <defs>\n  <clipPath id=\"p8db79fad79\">\n   <rect height=\"217.44\" width=\"145.565217\" x=\"30.103125\" y=\"22.318125\"/>\n  </clipPath>\n  <clipPath id=\"pc2543abec4\">\n   <rect height=\"217.44\" width=\"145.565217\" x=\"219.337908\" y=\"22.318125\"/>\n  </clipPath>\n </defs>\n</svg>\n",
      "image/png": "[encoded data removed]"
     },
     "metadata": {
      "needs_background": "light"
     }
    }
   ],
   "source": [
    "# 資料資訊\n",
    "\n",
    "df3 = pd.DataFrame({  # 宣告 DataFrame 變數\n",
    "    'col-int': np.arange(11),\n",
    "    'col-float': np.random.rand(11),\n",
    "})\n",
    "\n",
    "print(df3.info())     # 輸出 DataFrame df3 資料型態與大小\n",
    "print()\n",
    "print(df3.head(3))    # 輸出 DataFrame df3 前 3 筆資料\n",
    "print()\n",
    "print(df3.tail(2))    # 輸出 DataFrame df3 後 2 筆資料\n",
    "print()\n",
    "print(df3.describe()) # 輸出 DataFrame df3 各行統計數值\n",
    "print()\n",
    "df3.hist()            # 畫出 DataFrame df3 的資料直方圖"
   ]
  },
  {
   "cell_type": "code",
   "execution_count": 7,
   "metadata": {},
   "outputs": [
    {
     "output_type": "stream",
     "name": "stdout",
     "text": "numeric  categorical\n0     True        False\n1    False        False\n2    False        False\n3    False        False\n4    False         True\n5     True        False\n6    False        False\n7     True         True\n8    False        False\n\n   numeric  categorical\n0    False         True\n1     True         True\n2     True         True\n3     True         True\n4     True        False\n5    False         True\n6     True         True\n7    False        False\n8     True         True\n\n0    2.0\n1    2.0\n2    3.0\n3    1.0\n4    2.0\n5    2.0\n6    1.0\n7    2.0\n8    3.0\nName: numeric, dtype: float64\n\n0    A\n1    B\n2    C\n3    A\n5    B\n6    A\n8    C\nName: categorical, dtype: object\n"
    }
   ],
   "source": [
    "# 資料前處理\n",
    "\n",
    "df4 = pd.DataFrame({     # 宣告 DataFrame 變數\n",
    "    'numeric': [np.nan, 2, 3, 1, 2, np.nan, 1, np.nan, 3],\n",
    "    'categorical': ['A', 'B', 'C', 'A', None, 'B', 'A', None, 'C'],\n",
    "})\n",
    "\n",
    "print(df4.isna())        # 找出 DataFrame df4 中遺失資料的欄位\n",
    "print()\n",
    "print(df4.notna())       # 找出 DataFrame df4 中沒有遺失資料的欄位\n",
    "print()\n",
    "print(df4['numeric']     # 對 df4['numeric'] 中遺失的欄位填入平均值\n",
    "      .fillna(df4['numeric'].mean()))\n",
    "print()\n",
    "print(df4['categorical'] # 移除 df4['categorical'] 中遺失的欄位\n",
    "      .dropna())"
   ]
  },
  {
   "cell_type": "code",
   "execution_count": 8,
   "metadata": {
    "scrolled": true
   },
   "outputs": [
    {
     "output_type": "stream",
     "name": "stdout",
     "text": "0    False\n1     True\n2    False\n3     True\nName: age, dtype: bool\n\n     name  age sex\n1    Beth   30   F\n3  Dennis   40   M\n\n0     True\n1     True\n2    False\n3    False\nName: sex, dtype: bool\n\n    name  age sex\n0  Alice   18   F\n1   Beth   30   F\n\n0    False\n1     True\n2    False\n3    False\ndtype: bool\n\n   name  age sex\n1  Beth   30   F\n"
    }
   ],
   "source": [
    "# 取得資料\n",
    "\n",
    "df5 = pd.DataFrame({              # 宣告 DataFrame 變數\n",
    "    'name': ['Alice', 'Beth',\n",
    "             'Carl', 'Dennis'],   # 名字\n",
    "    'age': [18, 30, 24, 40],      # 年紀\n",
    "    'sex': ['F', 'F', 'M', 'M'],  # 性別\n",
    "})\n",
    "\n",
    "print(df5['age'] > 25)            # 找出大於 25 歲的資料\n",
    "print()\n",
    "print(df5[df5['age'] > 25])       # 取出大於 25 歲的資料\n",
    "print()\n",
    "\n",
    "print(df5['sex'] == 'F')          # 找出性別為女性的資料\n",
    "print()\n",
    "print(df5[df5['sex'] == 'F'])     # 取出性別為女性的資料\n",
    "print()\n",
    "\n",
    "print((df5['age'] > 25)           # 找出年紀大於 25 歲且性別為女性的資料\n",
    "      &\n",
    "      (df5['sex'] == 'F'))\n",
    "print()\n",
    "print(df5[                        # 取出年紀大於 25 歲且性別為女性的資料\n",
    "    (df5['age'] > 25)\n",
    "    &\n",
    "    (df5['sex'] == 'F')\n",
    "])"
   ]
  },
  {
   "cell_type": "code",
   "execution_count": 9,
   "metadata": {},
   "outputs": [
    {
     "output_type": "stream",
     "name": "stdout",
     "text": "year  month  date\nmy birthday  1998     13    15\n64           1992      9     7\n228          1950      5    31\n\n             year  month  date\nmy birthday  1990      5     7\n64           1984      1    -1\n228          1942     -3    23\n\n              year  month  date\nmy birthday  13965     70    84\n64           13923     42    28\n228          13629     14   196\n\n                   year     month      date\nmy birthday  221.666667  1.111111  1.333333\n64           221.000000  0.666667  0.444444\n228          216.333333  0.222222  3.111111\n\nyear     1995\nmonth      10\ndate       28\ndtype: int64\n\nyear     1947\nmonth       2\ndate        4\ndtype: int64\n\n0\n2\nmy birthday\n64\n\nyear     1977.000000\nmonth       6.000000\ndate       14.666667\ndtype: float64\n\nyear     684.000000\nmonth     16.000000\ndate     149.333333\ndtype: float64\n\nyear     26.153394\nmonth     4.000000\ndate     12.220202\ndtype: float64\n\nyear     5931\nmonth      18\ndate       44\ndtype: int64\n"
    }
   ],
   "source": [
    "# 資料運算\n",
    "\n",
    "df6 = pd.DataFrame( # 宣告 DataFrame 變數\n",
    "    {\n",
    "        'year': [1995, 1989, 1947],\n",
    "        'month': [10, 6, 2],\n",
    "        'date': [12, 4, 28],\n",
    "    }, \n",
    "    index=['my birthday', '64', '228']\n",
    ")\n",
    "\n",
    "print(df6.add(3))            # 將 DataFrame df6 中所有數值加 3\n",
    "print()\n",
    "print(df6.sub(5))            # 將 DataFrame df6 中所有數值減 5\n",
    "print()\n",
    "print(df6.mul(7))            # 將 DataFrame df6 中所有數值乘 7\n",
    "print()\n",
    "print(df6.div(9))            # 將 DataFrame df6 中所有數值除 9\n",
    "print()\n",
    "print(df6.max())             # 找出 DataFrame df6 中每一行的最大值\n",
    "print()\n",
    "print(df6.min())             # 找出 DataFrame df6 中每一行的最小值\n",
    "print()\n",
    "print(df6['year'].argmax())  # 找出 Series df6['year'] 中最大值的位置\n",
    "print(df6['month'].argmin()) # 找出 Series df6['month'] 中最小值的位置\n",
    "print(df6['year'].idxmax())  # 找出 Series df6['year'] 中最大值的名稱\n",
    "print(df6['date'].idxmin())  # 找出 Series df6['date'] 中最小值的名稱\n",
    "print()\n",
    "print(df6.mean())            # 計算 DataFrame df6 中每一行的平均值\n",
    "print()\n",
    "print(df6.var())             # 計算 DataFrame df6 中每一行的變異數\n",
    "print()\n",
    "print(df6.std())             # 計算 DataFrame df6 中每一行的標準差\n",
    "print()\n",
    "print(df6.sum())             # 計算 DataFrame df6 中每一行的總和"
   ]
  },
  {
   "cell_type": "code",
   "execution_count": 10,
   "metadata": {},
   "outputs": [
    {
     "output_type": "stream",
     "name": "stdout",
     "text": "0    2002\n1    1990\n2    1996\n3    1980\nName: age, dtype: int64\n\n0    female\n1    female\n2      male\n3      male\nName: sex, dtype: object\n\n0    Alice is a female and was born at 2002.\n1     Beth is a female and was born at 1990.\n2       Carl is a male and was born at 1996.\n3     Dennis is a male and was born at 1980.\ndtype: object\n"
    }
   ],
   "source": [
    "import datetime\n",
    "\n",
    "df7 = pd.DataFrame({                # 宣告 DataFrame 變數\n",
    "    'name': ['Alice', 'Beth',\n",
    "             'Carl', 'Dennis'],     # 名字\n",
    "    'age': [18, 30, 24, 40],        # 年紀\n",
    "    'sex': ['F', 'F', 'M', 'M'],    # 性別\n",
    "})\n",
    "\n",
    "def birth_year(age):                # 計算出生西元年\n",
    "    return datetime.date.today().year - age\n",
    "\n",
    "def sex_str(sex):                   # 根據性別輸出 Female 或 Male\n",
    "    return 'female' if sex == 'F' else 'male'\n",
    "\n",
    "def info_str(row):                  # 將資料轉換成可閱讀的資訊\n",
    "    return '{} is a {} and was born at {}.'.format(row['name'],\n",
    "                                                   sex_str(row['sex']),\n",
    "                                                   birth_year(row['age']))\n",
    "\n",
    "print(df7['age'].apply(birth_year)) # 輸出出生西元年\n",
    "print()\n",
    "print(df7['sex'].apply(sex_str))    # 輸出性別\n",
    "print()\n",
    "print(df7.apply(info_str, axis=1))  # 輸出可閱讀的資訊"
   ]
  },
  {
   "cell_type": "markdown",
   "metadata": {},
   "source": [
    "## 讀取資料\n",
    "\n",
    "使用 `pandas.read_*` 進行讀取特定資料格式，同時支援輸出部份格式：\n",
    "\n",
    "|格式|讀取函數|輸出函數|\n",
    "|-|-|-|\n",
    "|CSV|`pandas.read_csv`|`pandas.to_csv`|\n",
    "|JSON|`pandas.read_json`|`pandas.to_json`|\n",
    "|HTML|`pandas.read_html`|`pandas.to_html`|\n",
    "|Excel|`pandas.read_excel`|`pandas.to_excel`|\n",
    "|SQL|`pandas.read_sql`|`pandas.to_sql`|\n",
    "|pickle|`pandas.read_pickle`|`pandas.to_pickle`|\n",
    "|Google BigQuery|`pandas.read_gbq`|`pandas.to_gbq`|\n",
    "\n",
    "### 資料集\n",
    "\n",
    "本教學使用[台南氣象觀測站（467410）](https://e-service.cwb.gov.tw/HistoryDataQuery/MonthDataController.do?command=viewMain&station=467410&stname=%25E8%2587%25BA%25E5%258D%2597&datepicker=2020-03)所提供的資料，觀測時間為 2020 年 3 月。\n",
    "\n",
    "請將檔案下載並放置於 `course_material/data` 資料夾底下，檔案名稱為 `467410-2020-03.csv`。"
   ]
  },
  {
   "cell_type": "code",
   "execution_count": 11,
   "metadata": {},
   "outputs": [],
   "source": [
    "# 讀取資料\n",
    "\n",
    "df8 = pd.read_csv('./data/467410-2020-03.csv')"
   ]
  },
  {
   "cell_type": "code",
   "execution_count": 12,
   "metadata": {},
   "outputs": [
    {
     "output_type": "stream",
     "name": "stdout",
     "text": "<class 'pandas.core.frame.DataFrame'>\nRangeIndex: 31 entries, 0 to 30\nData columns (total 35 columns):\n #   Column          Non-Null Count  Dtype  \n---  ------          --------------  -----  \n 0   ObsTime         31 non-null     int64  \n 1   StnPres         31 non-null     float64\n 2   SeaPres         31 non-null     float64\n 3   StnPresMax      31 non-null     float64\n 4   StnPresMaxTime  31 non-null     object \n 5   StnPresMin      31 non-null     float64\n 6   StnPresMinTime  31 non-null     object \n 7   Temperature     31 non-null     float64\n 8   T Max           31 non-null     float64\n 9   T Max Time      31 non-null     object \n 10  T Min           31 non-null     float64\n 11  T Min Time      31 non-null     object \n 12  Td dew point    31 non-null     object \n 13  RH              31 non-null     object \n 14  RHMin           31 non-null     object \n 15  RHMinTime       31 non-null     object \n 16  WS              31 non-null     float64\n 17  WD              31 non-null     int64  \n 18  WSGust          31 non-null     float64\n 19  WDGust          31 non-null     int64  \n 20  WGustTime       31 non-null     object \n 21  Precp           31 non-null     object \n 22  PrecpHour       31 non-null     float64\n 23  PrecpMax10      31 non-null     object \n 24  PrecpMax10Time  31 non-null     object \n 25  PrecpHrMax      31 non-null     object \n 26  PrecpHrMaxTime  31 non-null     object \n 27  SunShine        31 non-null     float64\n 28  SunShineRate    31 non-null     float64\n 29  GloblRad        31 non-null     float64\n 30  VisbMean        31 non-null     float64\n 31  EvapA           31 non-null     object \n 32  UVI Max         31 non-null     int64  \n 33  UVI Max Time    31 non-null     object \n 34  Cloud Amount    31 non-null     float64\ndtypes: float64(15), int64(4), object(16)\nmemory usage: 8.6+ KB\n"
    }
   ],
   "source": [
    "df8.info() # 輸出資料型態與大小"
   ]
  },
  {
   "cell_type": "code",
   "execution_count": 13,
   "metadata": {},
   "outputs": [
    {
     "output_type": "execute_result",
     "data": {
      "text/plain": "         ObsTime      StnPres      SeaPres   StnPresMax   StnPresMin  \\\ncount  31.000000    31.000000    31.000000    31.000000    31.000000   \nmean   16.000000  1012.393548  1015.525806  1014.464516  1010.209677   \nstd     9.092121     2.264205     2.283414     2.273844     2.327567   \nmin     1.000000  1006.900000  1010.000000  1008.900000  1004.500000   \n25%     8.500000  1011.150000  1014.300000  1012.900000  1008.550000   \n50%    16.000000  1012.100000  1015.200000  1014.000000  1010.600000   \n75%    23.500000  1014.150000  1017.250000  1016.400000  1011.400000   \nmax    31.000000  1017.100000  1020.300000  1018.900000  1015.400000   \n\n       Temperature      T Max      T Min         WS          WD     WSGust  \\\ncount     31.00000  31.000000  31.000000  31.000000   31.000000  31.000000   \nmean      23.26129  27.909677  19.690323   2.874194  202.903226   9.854839   \nstd        2.13099   2.243116   2.343125   0.879760  163.975477   2.798195   \nmin       18.30000  22.300000  15.500000   1.400000   10.000000   5.800000   \n25%       22.05000  26.400000  17.700000   2.250000   10.000000   7.600000   \n50%       23.90000  28.800000  19.800000   2.800000  280.000000   9.100000   \n75%       24.50000  29.600000  21.200000   3.300000  360.000000  11.450000   \nmax       27.40000  31.700000  25.100000   4.700000  360.000000  16.200000   \n\n           WDGust  PrecpHour   SunShine  SunShineRate   GloblRad   VisbMean  \\\ncount   31.000000  31.000000  31.000000     31.000000  31.000000  31.000000   \nmean   212.580645   0.322581   7.425806     62.083871  17.950323  10.690323   \nstd    138.995629   1.303255   3.206241     26.734386   4.071008   3.888132   \nmin     10.000000   0.000000   0.600000      5.000000   6.730000   5.000000   \n25%     20.000000   0.000000   5.200000     43.100000  16.420000   7.400000   \n50%    270.000000   0.000000   9.000000     74.100000  19.020000   9.700000   \n75%    325.000000   0.000000   9.800000     83.250000  20.685000  14.350000   \nmax    360.000000   7.200000  11.000000     90.400000  22.660000  20.600000   \n\n         UVI Max  Cloud Amount  \ncount  31.000000     31.000000  \nmean    6.967742      4.177419  \nstd     1.277599      2.505688  \nmin     4.000000      0.900000  \n25%     6.000000      2.650000  \n50%     7.000000      3.500000  \n75%     8.000000      5.950000  \nmax     9.000000      8.600000  ",
      "text/html": "<div>\n<style scoped>\n    .dataframe tbody tr th:only-of-type {\n        vertical-align: middle;\n    }\n\n    .dataframe tbody tr th {\n        vertical-align: top;\n    }\n\n    .dataframe thead th {\n        text-align: right;\n    }\n</style>\n<table border=\"1\" class=\"dataframe\">\n  <thead>\n    <tr style=\"text-align: right;\">\n      <th></th>\n      <th>ObsTime</th>\n      <th>StnPres</th>\n      <th>SeaPres</th>\n      <th>StnPresMax</th>\n      <th>StnPresMin</th>\n      <th>Temperature</th>\n      <th>T Max</th>\n      <th>T Min</th>\n      <th>WS</th>\n      <th>WD</th>\n      <th>WSGust</th>\n      <th>WDGust</th>\n      <th>PrecpHour</th>\n      <th>SunShine</th>\n      <th>SunShineRate</th>\n      <th>GloblRad</th>\n      <th>VisbMean</th>\n      <th>UVI Max</th>\n      <th>Cloud Amount</th>\n    </tr>\n  </thead>\n  <tbody>\n    <tr>\n      <th>count</th>\n      <td>31.000000</td>\n      <td>31.000000</td>\n      <td>31.000000</td>\n      <td>31.000000</td>\n      <td>31.000000</td>\n      <td>31.00000</td>\n      <td>31.000000</td>\n      <td>31.000000</td>\n      <td>31.000000</td>\n      <td>31.000000</td>\n      <td>31.000000</td>\n      <td>31.000000</td>\n      <td>31.000000</td>\n      <td>31.000000</td>\n      <td>31.000000</td>\n      <td>31.000000</td>\n      <td>31.000000</td>\n      <td>31.000000</td>\n      <td>31.000000</td>\n    </tr>\n    <tr>\n      <th>mean</th>\n      <td>16.000000</td>\n      <td>1012.393548</td>\n      <td>1015.525806</td>\n      <td>1014.464516</td>\n      <td>1010.209677</td>\n      <td>23.26129</td>\n      <td>27.909677</td>\n      <td>19.690323</td>\n      <td>2.874194</td>\n      <td>202.903226</td>\n      <td>9.854839</td>\n      <td>212.580645</td>\n      <td>0.322581</td>\n      <td>7.425806</td>\n      <td>62.083871</td>\n      <td>17.950323</td>\n      <td>10.690323</td>\n      <td>6.967742</td>\n      <td>4.177419</td>\n    </tr>\n    <tr>\n      <th>std</th>\n      <td>9.092121</td>\n      <td>2.264205</td>\n      <td>2.283414</td>\n      <td>2.273844</td>\n      <td>2.327567</td>\n      <td>2.13099</td>\n      <td>2.243116</td>\n      <td>2.343125</td>\n      <td>0.879760</td>\n      <td>163.975477</td>\n      <td>2.798195</td>\n      <td>138.995629</td>\n      <td>1.303255</td>\n      <td>3.206241</td>\n      <td>26.734386</td>\n      <td>4.071008</td>\n      <td>3.888132</td>\n      <td>1.277599</td>\n      <td>2.505688</td>\n    </tr>\n    <tr>\n      <th>min</th>\n      <td>1.000000</td>\n      <td>1006.900000</td>\n      <td>1010.000000</td>\n      <td>1008.900000</td>\n      <td>1004.500000</td>\n      <td>18.30000</td>\n      <td>22.300000</td>\n      <td>15.500000</td>\n      <td>1.400000</td>\n      <td>10.000000</td>\n      <td>5.800000</td>\n      <td>10.000000</td>\n      <td>0.000000</td>\n      <td>0.600000</td>\n      <td>5.000000</td>\n      <td>6.730000</td>\n      <td>5.000000</td>\n      <td>4.000000</td>\n      <td>0.900000</td>\n    </tr>\n    <tr>\n      <th>25%</th>\n      <td>8.500000</td>\n      <td>1011.150000</td>\n      <td>1014.300000</td>\n      <td>1012.900000</td>\n      <td>1008.550000</td>\n      <td>22.05000</td>\n      <td>26.400000</td>\n      <td>17.700000</td>\n      <td>2.250000</td>\n      <td>10.000000</td>\n      <td>7.600000</td>\n      <td>20.000000</td>\n      <td>0.000000</td>\n      <td>5.200000</td>\n      <td>43.100000</td>\n      <td>16.420000</td>\n      <td>7.400000</td>\n      <td>6.000000</td>\n      <td>2.650000</td>\n    </tr>\n    <tr>\n      <th>50%</th>\n      <td>16.000000</td>\n      <td>1012.100000</td>\n      <td>1015.200000</td>\n      <td>1014.000000</td>\n      <td>1010.600000</td>\n      <td>23.90000</td>\n      <td>28.800000</td>\n      <td>19.800000</td>\n      <td>2.800000</td>\n      <td>280.000000</td>\n      <td>9.100000</td>\n      <td>270.000000</td>\n      <td>0.000000</td>\n      <td>9.000000</td>\n      <td>74.100000</td>\n      <td>19.020000</td>\n      <td>9.700000</td>\n      <td>7.000000</td>\n      <td>3.500000</td>\n    </tr>\n    <tr>\n      <th>75%</th>\n      <td>23.500000</td>\n      <td>1014.150000</td>\n      <td>1017.250000</td>\n      <td>1016.400000</td>\n      <td>1011.400000</td>\n      <td>24.50000</td>\n      <td>29.600000</td>\n      <td>21.200000</td>\n      <td>3.300000</td>\n      <td>360.000000</td>\n      <td>11.450000</td>\n      <td>325.000000</td>\n      <td>0.000000</td>\n      <td>9.800000</td>\n      <td>83.250000</td>\n      <td>20.685000</td>\n      <td>14.350000</td>\n      <td>8.000000</td>\n      <td>5.950000</td>\n    </tr>\n    <tr>\n      <th>max</th>\n      <td>31.000000</td>\n      <td>1017.100000</td>\n      <td>1020.300000</td>\n      <td>1018.900000</td>\n      <td>1015.400000</td>\n      <td>27.40000</td>\n      <td>31.700000</td>\n      <td>25.100000</td>\n      <td>4.700000</td>\n      <td>360.000000</td>\n      <td>16.200000</td>\n      <td>360.000000</td>\n      <td>7.200000</td>\n      <td>11.000000</td>\n      <td>90.400000</td>\n      <td>22.660000</td>\n      <td>20.600000</td>\n      <td>9.000000</td>\n      <td>8.600000</td>\n    </tr>\n  </tbody>\n</table>\n</div>"
     },
     "metadata": {},
     "execution_count": 13
    }
   ],
   "source": [
    "df8.describe() # 輸出統計資訊"
   ]
  },
  {
   "cell_type": "code",
   "execution_count": 14,
   "metadata": {},
   "outputs": [
    {
     "output_type": "stream",
     "name": "stdout",
     "text": "27.4\n18.3\n23.26129032258064\n"
    }
   ],
   "source": [
    "print(df8.describe()['Temperature']['max'])  # 輸出最高溫\n",
    "print(df8.describe()['Temperature']['min'])  # 輸出最高溫\n",
    "print(df8.describe()['Temperature']['mean']) # 輸出平均溫度"
   ]
  },
  {
   "cell_type": "code",
   "execution_count": 15,
   "metadata": {},
   "outputs": [
    {
     "output_type": "stream",
     "name": "stdout",
     "text": "AxesSubplot(0.125,0.125;0.775x0.755)\n"
    },
    {
     "output_type": "display_data",
     "data": {
      "text/plain": "<Figure size 432x288 with 1 Axes>",
      "image/svg+xml": "<?xml version=\"1.0\" encoding=\"utf-8\" standalone=\"no\"?>\n<!DOCTYPE svg PUBLIC \"-//W3C//DTD SVG 1.1//EN\"\n  \"http://www.w3.org/Graphics/SVG/1.1/DTD/svg11.dtd\">\n<!-- Created with matplotlib (https://matplotlib.org/) -->\n<svg height=\"248.518125pt\" version=\"1.1\" viewBox=\"0 0 368.925 248.518125\" width=\"368.925pt\" xmlns=\"http://www.w3.org/2000/svg\" xmlns:xlink=\"http://www.w3.org/1999/xlink\">\n <defs>\n  <style type=\"text/css\">\n*{stroke-linecap:butt;stroke-linejoin:round;}\n  </style>\n </defs>\n <g id=\"figure_1\">\n  <g id=\"patch_1\">\n   <path d=\"M -0 248.518125 \nL 368.925 248.518125 \nL 368.925 0 \nL -0 0 \nz\n\" style=\"fill:none;\"/>\n  </g>\n  <g id=\"axes_1\">\n   <g id=\"patch_2\">\n    <path d=\"M 26.925 224.64 \nL 361.725 224.64 \nL 361.725 7.2 \nL 26.925 7.2 \nz\n\" style=\"fill:#ffffff;\"/>\n   </g>\n   <g id=\"patch_3\">\n    <path clip-path=\"url(#p46da614a24)\" d=\"M 42.143182 224.64 \nL 72.579545 224.64 \nL 72.579545 183.222857 \nL 42.143182 183.222857 \nz\n\" style=\"fill:#1f77b4;\"/>\n   </g>\n   <g id=\"patch_4\">\n    <path clip-path=\"url(#p46da614a24)\" d=\"M 72.579545 224.64 \nL 103.015909 224.64 \nL 103.015909 203.931429 \nL 72.579545 203.931429 \nz\n\" style=\"fill:#1f77b4;\"/>\n   </g>\n   <g id=\"patch_5\">\n    <path clip-path=\"url(#p46da614a24)\" d=\"M 103.015909 224.64 \nL 133.452273 224.64 \nL 133.452273 183.222857 \nL 103.015909 183.222857 \nz\n\" style=\"fill:#1f77b4;\"/>\n   </g>\n   <g id=\"patch_6\">\n    <path clip-path=\"url(#p46da614a24)\" d=\"M 133.452273 224.64 \nL 163.888636 224.64 \nL 163.888636 183.222857 \nL 133.452273 183.222857 \nz\n\" style=\"fill:#1f77b4;\"/>\n   </g>\n   <g id=\"patch_7\">\n    <path clip-path=\"url(#p46da614a24)\" d=\"M 163.888636 224.64 \nL 194.325 224.64 \nL 194.325 100.388571 \nL 163.888636 100.388571 \nz\n\" style=\"fill:#1f77b4;\"/>\n   </g>\n   <g id=\"patch_8\">\n    <path clip-path=\"url(#p46da614a24)\" d=\"M 194.325 224.64 \nL 224.761364 224.64 \nL 224.761364 183.222857 \nL 194.325 183.222857 \nz\n\" style=\"fill:#1f77b4;\"/>\n   </g>\n   <g id=\"patch_9\">\n    <path clip-path=\"url(#p46da614a24)\" d=\"M 224.761364 224.64 \nL 255.197727 224.64 \nL 255.197727 17.554286 \nL 224.761364 17.554286 \nz\n\" style=\"fill:#1f77b4;\"/>\n   </g>\n   <g id=\"patch_10\">\n    <path clip-path=\"url(#p46da614a24)\" d=\"M 255.197727 224.64 \nL 285.634091 224.64 \nL 285.634091 141.805714 \nL 255.197727 141.805714 \nz\n\" style=\"fill:#1f77b4;\"/>\n   </g>\n   <g id=\"patch_11\">\n    <path clip-path=\"url(#p46da614a24)\" d=\"M 285.634091 224.64 \nL 316.070455 224.64 \nL 316.070455 224.64 \nL 285.634091 224.64 \nz\n\" style=\"fill:#1f77b4;\"/>\n   </g>\n   <g id=\"patch_12\">\n    <path clip-path=\"url(#p46da614a24)\" d=\"M 316.070455 224.64 \nL 346.506818 224.64 \nL 346.506818 183.222857 \nL 316.070455 183.222857 \nz\n\" style=\"fill:#1f77b4;\"/>\n   </g>\n   <g id=\"matplotlib.axis_1\">\n    <g id=\"xtick_1\">\n     <g id=\"line2d_1\">\n      <path clip-path=\"url(#p46da614a24)\" d=\"M 32.109216 224.64 \nL 32.109216 7.2 \n\" style=\"fill:none;stroke:#b0b0b0;stroke-linecap:square;stroke-width:0.8;\"/>\n     </g>\n     <g id=\"line2d_2\">\n      <defs>\n       <path d=\"M 0 0 \nL 0 3.5 \n\" id=\"m78442fe8a2\" style=\"stroke:#000000;stroke-width:0.8;\"/>\n      </defs>\n      <g>\n       <use style=\"stroke:#000000;stroke-width:0.8;\" x=\"32.109216\" xlink:href=\"#m78442fe8a2\" y=\"224.64\"/>\n      </g>\n     </g>\n     <g id=\"text_1\">\n      <!-- 18 -->\n      <defs>\n       <path d=\"M 12.40625 8.296875 \nL 28.515625 8.296875 \nL 28.515625 63.921875 \nL 10.984375 60.40625 \nL 10.984375 69.390625 \nL 28.421875 72.90625 \nL 38.28125 72.90625 \nL 38.28125 8.296875 \nL 54.390625 8.296875 \nL 54.390625 0 \nL 12.40625 0 \nz\n\" id=\"DejaVuSans-49\"/>\n       <path d=\"M 31.78125 34.625 \nQ 24.75 34.625 20.71875 30.859375 \nQ 16.703125 27.09375 16.703125 20.515625 \nQ 16.703125 13.921875 20.71875 10.15625 \nQ 24.75 6.390625 31.78125 6.390625 \nQ 38.8125 6.390625 42.859375 10.171875 \nQ 46.921875 13.96875 46.921875 20.515625 \nQ 46.921875 27.09375 42.890625 30.859375 \nQ 38.875 34.625 31.78125 34.625 \nz\nM 21.921875 38.8125 \nQ 15.578125 40.375 12.03125 44.71875 \nQ 8.5 49.078125 8.5 55.328125 \nQ 8.5 64.0625 14.71875 69.140625 \nQ 20.953125 74.21875 31.78125 74.21875 \nQ 42.671875 74.21875 48.875 69.140625 \nQ 55.078125 64.0625 55.078125 55.328125 \nQ 55.078125 49.078125 51.53125 44.71875 \nQ 48 40.375 41.703125 38.8125 \nQ 48.828125 37.15625 52.796875 32.3125 \nQ 56.78125 27.484375 56.78125 20.515625 \nQ 56.78125 9.90625 50.3125 4.234375 \nQ 43.84375 -1.421875 31.78125 -1.421875 \nQ 19.734375 -1.421875 13.25 4.234375 \nQ 6.78125 9.90625 6.78125 20.515625 \nQ 6.78125 27.484375 10.78125 32.3125 \nQ 14.796875 37.15625 21.921875 38.8125 \nz\nM 18.3125 54.390625 \nQ 18.3125 48.734375 21.84375 45.5625 \nQ 25.390625 42.390625 31.78125 42.390625 \nQ 38.140625 42.390625 41.71875 45.5625 \nQ 45.3125 48.734375 45.3125 54.390625 \nQ 45.3125 60.0625 41.71875 63.234375 \nQ 38.140625 66.40625 31.78125 66.40625 \nQ 25.390625 66.40625 21.84375 63.234375 \nQ 18.3125 60.0625 18.3125 54.390625 \nz\n\" id=\"DejaVuSans-56\"/>\n      </defs>\n      <g transform=\"translate(25.746716 239.238437)scale(0.1 -0.1)\">\n       <use xlink:href=\"#DejaVuSans-49\"/>\n       <use x=\"63.623047\" xlink:href=\"#DejaVuSans-56\"/>\n      </g>\n     </g>\n    </g>\n    <g id=\"xtick_2\">\n     <g id=\"line2d_3\">\n      <path clip-path=\"url(#p46da614a24)\" d=\"M 99.002323 224.64 \nL 99.002323 7.2 \n\" style=\"fill:none;stroke:#b0b0b0;stroke-linecap:square;stroke-width:0.8;\"/>\n     </g>\n     <g id=\"line2d_4\">\n      <g>\n       <use style=\"stroke:#000000;stroke-width:0.8;\" x=\"99.002323\" xlink:href=\"#m78442fe8a2\" y=\"224.64\"/>\n      </g>\n     </g>\n     <g id=\"text_2\">\n      <!-- 20 -->\n      <defs>\n       <path d=\"M 19.1875 8.296875 \nL 53.609375 8.296875 \nL 53.609375 0 \nL 7.328125 0 \nL 7.328125 8.296875 \nQ 12.9375 14.109375 22.625 23.890625 \nQ 32.328125 33.6875 34.8125 36.53125 \nQ 39.546875 41.84375 41.421875 45.53125 \nQ 43.3125 49.21875 43.3125 52.78125 \nQ 43.3125 58.59375 39.234375 62.25 \nQ 35.15625 65.921875 28.609375 65.921875 \nQ 23.96875 65.921875 18.8125 64.3125 \nQ 13.671875 62.703125 7.8125 59.421875 \nL 7.8125 69.390625 \nQ 13.765625 71.78125 18.9375 73 \nQ 24.125 74.21875 28.421875 74.21875 \nQ 39.75 74.21875 46.484375 68.546875 \nQ 53.21875 62.890625 53.21875 53.421875 \nQ 53.21875 48.921875 51.53125 44.890625 \nQ 49.859375 40.875 45.40625 35.40625 \nQ 44.1875 33.984375 37.640625 27.21875 \nQ 31.109375 20.453125 19.1875 8.296875 \nz\n\" id=\"DejaVuSans-50\"/>\n       <path d=\"M 31.78125 66.40625 \nQ 24.171875 66.40625 20.328125 58.90625 \nQ 16.5 51.421875 16.5 36.375 \nQ 16.5 21.390625 20.328125 13.890625 \nQ 24.171875 6.390625 31.78125 6.390625 \nQ 39.453125 6.390625 43.28125 13.890625 \nQ 47.125 21.390625 47.125 36.375 \nQ 47.125 51.421875 43.28125 58.90625 \nQ 39.453125 66.40625 31.78125 66.40625 \nz\nM 31.78125 74.21875 \nQ 44.046875 74.21875 50.515625 64.515625 \nQ 56.984375 54.828125 56.984375 36.375 \nQ 56.984375 17.96875 50.515625 8.265625 \nQ 44.046875 -1.421875 31.78125 -1.421875 \nQ 19.53125 -1.421875 13.0625 8.265625 \nQ 6.59375 17.96875 6.59375 36.375 \nQ 6.59375 54.828125 13.0625 64.515625 \nQ 19.53125 74.21875 31.78125 74.21875 \nz\n\" id=\"DejaVuSans-48\"/>\n      </defs>\n      <g transform=\"translate(92.639823 239.238437)scale(0.1 -0.1)\">\n       <use xlink:href=\"#DejaVuSans-50\"/>\n       <use x=\"63.623047\" xlink:href=\"#DejaVuSans-48\"/>\n      </g>\n     </g>\n    </g>\n    <g id=\"xtick_3\">\n     <g id=\"line2d_5\">\n      <path clip-path=\"url(#p46da614a24)\" d=\"M 165.89543 224.64 \nL 165.89543 7.2 \n\" style=\"fill:none;stroke:#b0b0b0;stroke-linecap:square;stroke-width:0.8;\"/>\n     </g>\n     <g id=\"line2d_6\">\n      <g>\n       <use style=\"stroke:#000000;stroke-width:0.8;\" x=\"165.89543\" xlink:href=\"#m78442fe8a2\" y=\"224.64\"/>\n      </g>\n     </g>\n     <g id=\"text_3\">\n      <!-- 22 -->\n      <g transform=\"translate(159.53293 239.238437)scale(0.1 -0.1)\">\n       <use xlink:href=\"#DejaVuSans-50\"/>\n       <use x=\"63.623047\" xlink:href=\"#DejaVuSans-50\"/>\n      </g>\n     </g>\n    </g>\n    <g id=\"xtick_4\">\n     <g id=\"line2d_7\">\n      <path clip-path=\"url(#p46da614a24)\" d=\"M 232.788536 224.64 \nL 232.788536 7.2 \n\" style=\"fill:none;stroke:#b0b0b0;stroke-linecap:square;stroke-width:0.8;\"/>\n     </g>\n     <g id=\"line2d_8\">\n      <g>\n       <use style=\"stroke:#000000;stroke-width:0.8;\" x=\"232.788536\" xlink:href=\"#m78442fe8a2\" y=\"224.64\"/>\n      </g>\n     </g>\n     <g id=\"text_4\">\n      <!-- 24 -->\n      <defs>\n       <path d=\"M 37.796875 64.3125 \nL 12.890625 25.390625 \nL 37.796875 25.390625 \nz\nM 35.203125 72.90625 \nL 47.609375 72.90625 \nL 47.609375 25.390625 \nL 58.015625 25.390625 \nL 58.015625 17.1875 \nL 47.609375 17.1875 \nL 47.609375 0 \nL 37.796875 0 \nL 37.796875 17.1875 \nL 4.890625 17.1875 \nL 4.890625 26.703125 \nz\n\" id=\"DejaVuSans-52\"/>\n      </defs>\n      <g transform=\"translate(226.426036 239.238437)scale(0.1 -0.1)\">\n       <use xlink:href=\"#DejaVuSans-50\"/>\n       <use x=\"63.623047\" xlink:href=\"#DejaVuSans-52\"/>\n      </g>\n     </g>\n    </g>\n    <g id=\"xtick_5\">\n     <g id=\"line2d_9\">\n      <path clip-path=\"url(#p46da614a24)\" d=\"M 299.681643 224.64 \nL 299.681643 7.2 \n\" style=\"fill:none;stroke:#b0b0b0;stroke-linecap:square;stroke-width:0.8;\"/>\n     </g>\n     <g id=\"line2d_10\">\n      <g>\n       <use style=\"stroke:#000000;stroke-width:0.8;\" x=\"299.681643\" xlink:href=\"#m78442fe8a2\" y=\"224.64\"/>\n      </g>\n     </g>\n     <g id=\"text_5\">\n      <!-- 26 -->\n      <defs>\n       <path d=\"M 33.015625 40.375 \nQ 26.375 40.375 22.484375 35.828125 \nQ 18.609375 31.296875 18.609375 23.390625 \nQ 18.609375 15.53125 22.484375 10.953125 \nQ 26.375 6.390625 33.015625 6.390625 \nQ 39.65625 6.390625 43.53125 10.953125 \nQ 47.40625 15.53125 47.40625 23.390625 \nQ 47.40625 31.296875 43.53125 35.828125 \nQ 39.65625 40.375 33.015625 40.375 \nz\nM 52.59375 71.296875 \nL 52.59375 62.3125 \nQ 48.875 64.0625 45.09375 64.984375 \nQ 41.3125 65.921875 37.59375 65.921875 \nQ 27.828125 65.921875 22.671875 59.328125 \nQ 17.53125 52.734375 16.796875 39.40625 \nQ 19.671875 43.65625 24.015625 45.921875 \nQ 28.375 48.1875 33.59375 48.1875 \nQ 44.578125 48.1875 50.953125 41.515625 \nQ 57.328125 34.859375 57.328125 23.390625 \nQ 57.328125 12.15625 50.6875 5.359375 \nQ 44.046875 -1.421875 33.015625 -1.421875 \nQ 20.359375 -1.421875 13.671875 8.265625 \nQ 6.984375 17.96875 6.984375 36.375 \nQ 6.984375 53.65625 15.1875 63.9375 \nQ 23.390625 74.21875 37.203125 74.21875 \nQ 40.921875 74.21875 44.703125 73.484375 \nQ 48.484375 72.75 52.59375 71.296875 \nz\n\" id=\"DejaVuSans-54\"/>\n      </defs>\n      <g transform=\"translate(293.319143 239.238437)scale(0.1 -0.1)\">\n       <use xlink:href=\"#DejaVuSans-50\"/>\n       <use x=\"63.623047\" xlink:href=\"#DejaVuSans-54\"/>\n      </g>\n     </g>\n    </g>\n   </g>\n   <g id=\"matplotlib.axis_2\">\n    <g id=\"ytick_1\">\n     <g id=\"line2d_11\">\n      <path clip-path=\"url(#p46da614a24)\" d=\"M 26.925 224.64 \nL 361.725 224.64 \n\" style=\"fill:none;stroke:#b0b0b0;stroke-linecap:square;stroke-width:0.8;\"/>\n     </g>\n     <g id=\"line2d_12\">\n      <defs>\n       <path d=\"M 0 0 \nL -3.5 0 \n\" id=\"mb1c86de20f\" style=\"stroke:#000000;stroke-width:0.8;\"/>\n      </defs>\n      <g>\n       <use style=\"stroke:#000000;stroke-width:0.8;\" x=\"26.925\" xlink:href=\"#mb1c86de20f\" y=\"224.64\"/>\n      </g>\n     </g>\n     <g id=\"text_6\">\n      <!-- 0 -->\n      <g transform=\"translate(13.5625 228.439219)scale(0.1 -0.1)\">\n       <use xlink:href=\"#DejaVuSans-48\"/>\n      </g>\n     </g>\n    </g>\n    <g id=\"ytick_2\">\n     <g id=\"line2d_13\">\n      <path clip-path=\"url(#p46da614a24)\" d=\"M 26.925 183.222857 \nL 361.725 183.222857 \n\" style=\"fill:none;stroke:#b0b0b0;stroke-linecap:square;stroke-width:0.8;\"/>\n     </g>\n     <g id=\"line2d_14\">\n      <g>\n       <use style=\"stroke:#000000;stroke-width:0.8;\" x=\"26.925\" xlink:href=\"#mb1c86de20f\" y=\"183.222857\"/>\n      </g>\n     </g>\n     <g id=\"text_7\">\n      <!-- 2 -->\n      <g transform=\"translate(13.5625 187.022076)scale(0.1 -0.1)\">\n       <use xlink:href=\"#DejaVuSans-50\"/>\n      </g>\n     </g>\n    </g>\n    <g id=\"ytick_3\">\n     <g id=\"line2d_15\">\n      <path clip-path=\"url(#p46da614a24)\" d=\"M 26.925 141.805714 \nL 361.725 141.805714 \n\" style=\"fill:none;stroke:#b0b0b0;stroke-linecap:square;stroke-width:0.8;\"/>\n     </g>\n     <g id=\"line2d_16\">\n      <g>\n       <use style=\"stroke:#000000;stroke-width:0.8;\" x=\"26.925\" xlink:href=\"#mb1c86de20f\" y=\"141.805714\"/>\n      </g>\n     </g>\n     <g id=\"text_8\">\n      <!-- 4 -->\n      <g transform=\"translate(13.5625 145.604933)scale(0.1 -0.1)\">\n       <use xlink:href=\"#DejaVuSans-52\"/>\n      </g>\n     </g>\n    </g>\n    <g id=\"ytick_4\">\n     <g id=\"line2d_17\">\n      <path clip-path=\"url(#p46da614a24)\" d=\"M 26.925 100.388571 \nL 361.725 100.388571 \n\" style=\"fill:none;stroke:#b0b0b0;stroke-linecap:square;stroke-width:0.8;\"/>\n     </g>\n     <g id=\"line2d_18\">\n      <g>\n       <use style=\"stroke:#000000;stroke-width:0.8;\" x=\"26.925\" xlink:href=\"#mb1c86de20f\" y=\"100.388571\"/>\n      </g>\n     </g>\n     <g id=\"text_9\">\n      <!-- 6 -->\n      <g transform=\"translate(13.5625 104.18779)scale(0.1 -0.1)\">\n       <use xlink:href=\"#DejaVuSans-54\"/>\n      </g>\n     </g>\n    </g>\n    <g id=\"ytick_5\">\n     <g id=\"line2d_19\">\n      <path clip-path=\"url(#p46da614a24)\" d=\"M 26.925 58.971429 \nL 361.725 58.971429 \n\" style=\"fill:none;stroke:#b0b0b0;stroke-linecap:square;stroke-width:0.8;\"/>\n     </g>\n     <g id=\"line2d_20\">\n      <g>\n       <use style=\"stroke:#000000;stroke-width:0.8;\" x=\"26.925\" xlink:href=\"#mb1c86de20f\" y=\"58.971429\"/>\n      </g>\n     </g>\n     <g id=\"text_10\">\n      <!-- 8 -->\n      <g transform=\"translate(13.5625 62.770647)scale(0.1 -0.1)\">\n       <use xlink:href=\"#DejaVuSans-56\"/>\n      </g>\n     </g>\n    </g>\n    <g id=\"ytick_6\">\n     <g id=\"line2d_21\">\n      <path clip-path=\"url(#p46da614a24)\" d=\"M 26.925 17.554286 \nL 361.725 17.554286 \n\" style=\"fill:none;stroke:#b0b0b0;stroke-linecap:square;stroke-width:0.8;\"/>\n     </g>\n     <g id=\"line2d_22\">\n      <g>\n       <use style=\"stroke:#000000;stroke-width:0.8;\" x=\"26.925\" xlink:href=\"#mb1c86de20f\" y=\"17.554286\"/>\n      </g>\n     </g>\n     <g id=\"text_11\">\n      <!-- 10 -->\n      <g transform=\"translate(7.2 21.353504)scale(0.1 -0.1)\">\n       <use xlink:href=\"#DejaVuSans-49\"/>\n       <use x=\"63.623047\" xlink:href=\"#DejaVuSans-48\"/>\n      </g>\n     </g>\n    </g>\n   </g>\n   <g id=\"patch_13\">\n    <path d=\"M 26.925 224.64 \nL 26.925 7.2 \n\" style=\"fill:none;stroke:#000000;stroke-linecap:square;stroke-linejoin:miter;stroke-width:0.8;\"/>\n   </g>\n   <g id=\"patch_14\">\n    <path d=\"M 361.725 224.64 \nL 361.725 7.2 \n\" style=\"fill:none;stroke:#000000;stroke-linecap:square;stroke-linejoin:miter;stroke-width:0.8;\"/>\n   </g>\n   <g id=\"patch_15\">\n    <path d=\"M 26.925 224.64 \nL 361.725 224.64 \n\" style=\"fill:none;stroke:#000000;stroke-linecap:square;stroke-linejoin:miter;stroke-width:0.8;\"/>\n   </g>\n   <g id=\"patch_16\">\n    <path d=\"M 26.925 7.2 \nL 361.725 7.2 \n\" style=\"fill:none;stroke:#000000;stroke-linecap:square;stroke-linejoin:miter;stroke-width:0.8;\"/>\n   </g>\n  </g>\n </g>\n <defs>\n  <clipPath id=\"p46da614a24\">\n   <rect height=\"217.44\" width=\"334.8\" x=\"26.925\" y=\"7.2\"/>\n  </clipPath>\n </defs>\n</svg>\n",
      "image/png": "[encoded data removed]"
     },
     "metadata": {
      "needs_background": "light"
     }
    }
   ],
   "source": [
    "print(df8['Temperature'].hist()) # 畫出氣溫分佈"
   ]
  },
  {
   "cell_type": "markdown",
   "metadata": {},
   "source": [
    "## 練習\n",
    "\n",
    "### 練習 1\n",
    "\n",
    "將台南氣象觀測站資料集所有氣溫從攝氏溫度標準轉成華氏溫度標準：\n",
    "\n",
    "$$\n",
    "F = \\frac{9}{5} * C + 32\n",
    "$$\n",
    "\n",
    "### 練習 2\n",
    "\n",
    "從台南氣象觀測站資料集中取出高於平均氣溫的資料欄位，並輸出高於平均氣溫總共天數。"
   ]
  },
  {
   "cell_type": "code",
   "execution_count": 16,
   "metadata": {},
   "outputs": [
    {
     "output_type": "execute_result",
     "data": {
      "text/plain": "   ObsTime  StnPres  SeaPres  StnPresMax    StnPresMaxTime  StnPresMin  \\\n0        1   1011.1   1014.3      1012.9  2020-03-01 23:55      1009.5   \n1        2   1014.2   1017.3      1016.6  2020-03-02 23:23      1012.2   \n2        3   1015.0   1018.1      1017.3  2020-03-03 08:38      1012.0   \n3        4   1014.1   1017.2      1016.2  2020-03-04 08:18      1011.3   \n4        5   1015.1   1018.3      1017.1  2020-03-05 09:30      1013.1   \n\n     StnPresMinTime  Temperature  T Max        T Max Time  ...  PrecpHrMax  \\\n0  2020-03-01 14:53        76.10  84.92  2020-03-01 11:04  ...         0.0   \n1  2020-03-02 03:10        71.78  80.60  2020-03-02 14:48  ...         0.0   \n2  2020-03-03 15:44        72.68  82.76  2020-03-03 15:21  ...         0.0   \n3  2020-03-04 15:44        71.60  80.42  2020-03-04 12:32  ...         0.0   \n4  2020-03-05 14:55        64.94  74.30  2020-03-05 14:38  ...           T   \n\n     PrecpHrMaxTime SunShine SunShineRate GloblRad VisbMean  EvapA  UVI Max  \\\n0               ...     10.3         88.7    20.68     14.3    ...        8   \n1               ...      7.5         64.5    18.75      7.4    ...        7   \n2               ...      9.7         83.2    20.98     14.4    ...        8   \n3               ...      3.1         26.6    15.35      8.3    ...        7   \n4  2020-03-05 05:05      3.0         25.6    13.87      8.3    ...        8   \n\n       UVI Max Time  Cloud Amount  \n0  2020-03-01 13:00           0.9  \n1  2020-03-02 13:00           7.4  \n2  2020-03-03 13:00           3.5  \n3  2020-03-04 13:00           8.3  \n4  2020-03-05 13:00           8.4  \n\n[5 rows x 35 columns]",
      "text/html": "<div>\n<style scoped>\n    .dataframe tbody tr th:only-of-type {\n        vertical-align: middle;\n    }\n\n    .dataframe tbody tr th {\n        vertical-align: top;\n    }\n\n    .dataframe thead th {\n        text-align: right;\n    }\n</style>\n<table border=\"1\" class=\"dataframe\">\n  <thead>\n    <tr style=\"text-align: right;\">\n      <th></th>\n      <th>ObsTime</th>\n      <th>StnPres</th>\n      <th>SeaPres</th>\n      <th>StnPresMax</th>\n      <th>StnPresMaxTime</th>\n      <th>StnPresMin</th>\n      <th>StnPresMinTime</th>\n      <th>Temperature</th>\n      <th>T Max</th>\n      <th>T Max Time</th>\n      <th>...</th>\n      <th>PrecpHrMax</th>\n      <th>PrecpHrMaxTime</th>\n      <th>SunShine</th>\n      <th>SunShineRate</th>\n      <th>GloblRad</th>\n      <th>VisbMean</th>\n      <th>EvapA</th>\n      <th>UVI Max</th>\n      <th>UVI Max Time</th>\n      <th>Cloud Amount</th>\n    </tr>\n  </thead>\n  <tbody>\n    <tr>\n      <th>0</th>\n      <td>1</td>\n      <td>1011.1</td>\n      <td>1014.3</td>\n      <td>1012.9</td>\n      <td>2020-03-01 23:55</td>\n      <td>1009.5</td>\n      <td>2020-03-01 14:53</td>\n      <td>76.10</td>\n      <td>84.92</td>\n      <td>2020-03-01 11:04</td>\n      <td>...</td>\n      <td>0.0</td>\n      <td>...</td>\n      <td>10.3</td>\n      <td>88.7</td>\n      <td>20.68</td>\n      <td>14.3</td>\n      <td>...</td>\n      <td>8</td>\n      <td>2020-03-01 13:00</td>\n      <td>0.9</td>\n    </tr>\n    <tr>\n      <th>1</th>\n      <td>2</td>\n      <td>1014.2</td>\n      <td>1017.3</td>\n      <td>1016.6</td>\n      <td>2020-03-02 23:23</td>\n      <td>1012.2</td>\n      <td>2020-03-02 03:10</td>\n      <td>71.78</td>\n      <td>80.60</td>\n      <td>2020-03-02 14:48</td>\n      <td>...</td>\n      <td>0.0</td>\n      <td>...</td>\n      <td>7.5</td>\n      <td>64.5</td>\n      <td>18.75</td>\n      <td>7.4</td>\n      <td>...</td>\n      <td>7</td>\n      <td>2020-03-02 13:00</td>\n      <td>7.4</td>\n    </tr>\n    <tr>\n      <th>2</th>\n      <td>3</td>\n      <td>1015.0</td>\n      <td>1018.1</td>\n      <td>1017.3</td>\n      <td>2020-03-03 08:38</td>\n      <td>1012.0</td>\n      <td>2020-03-03 15:44</td>\n      <td>72.68</td>\n      <td>82.76</td>\n      <td>2020-03-03 15:21</td>\n      <td>...</td>\n      <td>0.0</td>\n      <td>...</td>\n      <td>9.7</td>\n      <td>83.2</td>\n      <td>20.98</td>\n      <td>14.4</td>\n      <td>...</td>\n      <td>8</td>\n      <td>2020-03-03 13:00</td>\n      <td>3.5</td>\n    </tr>\n    <tr>\n      <th>3</th>\n      <td>4</td>\n      <td>1014.1</td>\n      <td>1017.2</td>\n      <td>1016.2</td>\n      <td>2020-03-04 08:18</td>\n      <td>1011.3</td>\n      <td>2020-03-04 15:44</td>\n      <td>71.60</td>\n      <td>80.42</td>\n      <td>2020-03-04 12:32</td>\n      <td>...</td>\n      <td>0.0</td>\n      <td>...</td>\n      <td>3.1</td>\n      <td>26.6</td>\n      <td>15.35</td>\n      <td>8.3</td>\n      <td>...</td>\n      <td>7</td>\n      <td>2020-03-04 13:00</td>\n      <td>8.3</td>\n    </tr>\n    <tr>\n      <th>4</th>\n      <td>5</td>\n      <td>1015.1</td>\n      <td>1018.3</td>\n      <td>1017.1</td>\n      <td>2020-03-05 09:30</td>\n      <td>1013.1</td>\n      <td>2020-03-05 14:55</td>\n      <td>64.94</td>\n      <td>74.30</td>\n      <td>2020-03-05 14:38</td>\n      <td>...</td>\n      <td>T</td>\n      <td>2020-03-05 05:05</td>\n      <td>3.0</td>\n      <td>25.6</td>\n      <td>13.87</td>\n      <td>8.3</td>\n      <td>...</td>\n      <td>8</td>\n      <td>2020-03-05 13:00</td>\n      <td>8.4</td>\n    </tr>\n  </tbody>\n</table>\n<p>5 rows × 35 columns</p>\n</div>"
     },
     "metadata": {},
     "execution_count": 16
    }
   ],
   "source": [
    "# 練習 1 解答\n",
    "\n",
    "def C_to_F(temp):                                     # 溫度轉換公式\n",
    "    return temp * 9 / 5 + 32\n",
    "\n",
    "df9 = pd.read_csv('./data/467410-2020-03.csv')        # 讀取資料\n",
    "\n",
    "df9['Temperature'] = df9['Temperature'].apply(C_to_F) # 套用公式到所有溫度資料\n",
    "df9['T Max'] = df9['T Max'].apply(C_to_F)             # 套用公式到所有溫度資料\n",
    "df9['T Min'] = df9['T Min'].apply(C_to_F)             # 套用公式到所有溫度資料\n",
    "\n",
    "df9.head(5)                                           # 輸出前 5 筆資料"
   ]
  },
  {
   "cell_type": "code",
   "execution_count": 17,
   "metadata": {},
   "outputs": [
    {
     "output_type": "stream",
     "name": "stdout",
     "text": "18\n"
    }
   ],
   "source": [
    "# 練習 2 解答\n",
    "\n",
    "df10 = pd.read_csv('./data/467410-2020-03.csv')    # 讀取資料\n",
    "\n",
    "mean_temp = df10.describe()['Temperature']['mean'] # 計算平均氣溫\n",
    "df10 = df10[df10['Temperature'] > mean_temp]       # 取出大於平均氣溫的資料\n",
    "print(df10.shape[0])                               # 輸出資料數"
   ]
  },
  {
   "cell_type": "code",
   "execution_count": null,
   "metadata": {},
   "outputs": [],
   "source": []
  }
 ],
 "metadata": {
  "kernelspec": {
   "display_name": "Python 3.7.3 64-bit",
   "language": "python",
   "name": "python37364bitcfd83b10ce204cfaa07de6273c33c28b"
  },
  "language_info": {
   "codemirror_mode": {
    "name": "ipython",
    "version": 3
   },
   "file_extension": ".py",
   "mimetype": "text/x-python",
   "name": "python",
   "nbconvert_exporter": "python",
   "pygments_lexer": "ipython3",
   "version": "3.7.3-final"
  }
 },
 "nbformat": 4,
 "nbformat_minor": 4
}